{
 "cells": [
  {
   "cell_type": "markdown",
   "metadata": {
    "papermill": {
     "duration": 0.061951,
     "end_time": "2020-12-27T10:20:04.389382",
     "exception": false,
     "start_time": "2020-12-27T10:20:04.327431",
     "status": "completed"
    },
    "tags": []
   },
   "source": [
    "# **Importing Libraries**  📚"
   ]
  },
  {
   "cell_type": "code",
   "execution_count": 1,
   "metadata": {
    "_cell_guid": "79c7e3d0-c299-4dcb-8224-4455121ee9b0",
    "_uuid": "d629ff2d2480ee46fbb7e2d37f6b5fab8052498a",
    "execution": {
     "iopub.execute_input": "2020-12-27T10:20:04.529230Z",
     "iopub.status.busy": "2020-12-27T10:20:04.528297Z",
     "iopub.status.idle": "2020-12-27T10:20:05.658014Z",
     "shell.execute_reply": "2020-12-27T10:20:05.656788Z"
    },
    "papermill": {
     "duration": 1.207325,
     "end_time": "2020-12-27T10:20:05.658144",
     "exception": false,
     "start_time": "2020-12-27T10:20:04.450819",
     "status": "completed"
    },
    "tags": []
   },
   "outputs": [],
   "source": [
    "SEED=42\n",
    "import pandas as pd\n",
    "import numpy as np\n",
    "import seaborn as sns\n",
    "import matplotlib.pyplot as plt\n",
    "%matplotlib inline\n",
    "\n",
    "from sklearn.model_selection import train_test_split\n",
    "from sklearn.preprocessing import StandardScaler\n",
    "from sklearn.model_selection import cross_val_score\n",
    "\n",
    "# Categorical attribute conversion to numeric\n",
    "from sklearn.preprocessing import OrdinalEncoder\n",
    "\n",
    "# Data Imputer\n",
    "from sklearn.impute import SimpleImputer\n",
    "\n",
    "# Model Selection\n",
    "from sklearn.model_selection import KFold\n",
    "from sklearn.model_selection import GridSearchCV\n",
    "from sklearn.model_selection import learning_curve\n",
    "\n",
    "# Accuracy Metrics\n",
    "from sklearn.metrics import accuracy_score\n",
    "\n",
    "\n",
    "# Model library\n",
    "from sklearn.ensemble import RandomForestClassifier\n",
    "from sklearn.tree import DecisionTreeClassifier\n",
    "from sklearn.neighbors import KNeighborsClassifier\n",
    "from sklearn.naive_bayes import GaussianNB\n",
    "from sklearn.svm import SVC\n",
    "from sklearn.ensemble import VotingClassifier"
   ]
  },
  {
   "cell_type": "code",
   "execution_count": 2,
   "metadata": {
    "execution": {
     "iopub.execute_input": "2020-12-27T10:20:05.854748Z",
     "iopub.status.busy": "2020-12-27T10:20:05.854092Z",
     "iopub.status.idle": "2020-12-27T10:20:05.878364Z",
     "shell.execute_reply": "2020-12-27T10:20:05.878910Z"
    },
    "papermill": {
     "duration": 0.094459,
     "end_time": "2020-12-27T10:20:05.879087",
     "exception": false,
     "start_time": "2020-12-27T10:20:05.784628",
     "status": "completed"
    },
    "tags": []
   },
   "outputs": [],
   "source": [
    "df_train = pd.read_csv(\"../input/titanic/train.csv\")\n",
    "df_test  = pd.read_csv(\"../input/titanic/test.csv\")\n",
    "df = [df_train, df_test]\n",
    "\n",
    "# Creating a copy of test dataset for final submission \n",
    "df_test_copy = df_test  "
   ]
  },
  {
   "cell_type": "code",
   "execution_count": 3,
   "metadata": {
    "execution": {
     "iopub.execute_input": "2020-12-27T10:20:06.008672Z",
     "iopub.status.busy": "2020-12-27T10:20:06.007778Z",
     "iopub.status.idle": "2020-12-27T10:20:06.011673Z",
     "shell.execute_reply": "2020-12-27T10:20:06.012285Z"
    },
    "papermill": {
     "duration": 0.071647,
     "end_time": "2020-12-27T10:20:06.012440",
     "exception": false,
     "start_time": "2020-12-27T10:20:05.940793",
     "status": "completed"
    },
    "tags": []
   },
   "outputs": [
    {
     "name": "stdout",
     "output_type": "stream",
     "text": [
      "Train dataset has 891 rows & 12 columns \n",
      "Test dataset has 418 rows & 11 columns \n"
     ]
    }
   ],
   "source": [
    "# Taking a look at the dataframe shape\n",
    "print(\"Train dataset has {} rows & {} columns \".format(df_train.shape[0], df_train.shape[1]))\n",
    "print(\"Test dataset has {} rows & {} columns \".format(df_test.shape[0], df_test.shape[1]))"
   ]
  },
  {
   "cell_type": "markdown",
   "metadata": {
    "papermill": {
     "duration": 0.062844,
     "end_time": "2020-12-27T10:20:06.136907",
     "exception": false,
     "start_time": "2020-12-27T10:20:06.074063",
     "status": "completed"
    },
    "tags": []
   },
   "source": [
    "A quick analysis of train dataset using info() function on training dataset will give clear picture of the dataframe. Training dataset has 12 columns out of which Name, Sex, Cabin and Embarked features have object type Dtype, which we will have to take care during data encoding step.  Also Age, Cabin and Embarked features have missing values"
   ]
  },
  {
   "cell_type": "code",
   "execution_count": 4,
   "metadata": {
    "execution": {
     "iopub.execute_input": "2020-12-27T10:20:06.283758Z",
     "iopub.status.busy": "2020-12-27T10:20:06.282910Z",
     "iopub.status.idle": "2020-12-27T10:20:06.286852Z",
     "shell.execute_reply": "2020-12-27T10:20:06.287485Z"
    },
    "papermill": {
     "duration": 0.088721,
     "end_time": "2020-12-27T10:20:06.287630",
     "exception": false,
     "start_time": "2020-12-27T10:20:06.198909",
     "status": "completed"
    },
    "tags": []
   },
   "outputs": [
    {
     "name": "stdout",
     "output_type": "stream",
     "text": [
      "<class 'pandas.core.frame.DataFrame'>\n",
      "RangeIndex: 891 entries, 0 to 890\n",
      "Data columns (total 12 columns):\n",
      " #   Column       Non-Null Count  Dtype  \n",
      "---  ------       --------------  -----  \n",
      " 0   PassengerId  891 non-null    int64  \n",
      " 1   Survived     891 non-null    int64  \n",
      " 2   Pclass       891 non-null    int64  \n",
      " 3   Name         891 non-null    object \n",
      " 4   Sex          891 non-null    object \n",
      " 5   Age          714 non-null    float64\n",
      " 6   SibSp        891 non-null    int64  \n",
      " 7   Parch        891 non-null    int64  \n",
      " 8   Ticket       891 non-null    object \n",
      " 9   Fare         891 non-null    float64\n",
      " 10  Cabin        204 non-null    object \n",
      " 11  Embarked     889 non-null    object \n",
      "dtypes: float64(2), int64(5), object(5)\n",
      "memory usage: 83.7+ KB\n"
     ]
    }
   ],
   "source": [
    "df_train.info()"
   ]
  },
  {
   "cell_type": "code",
   "execution_count": 5,
   "metadata": {
    "execution": {
     "iopub.execute_input": "2020-12-27T10:20:06.426829Z",
     "iopub.status.busy": "2020-12-27T10:20:06.425968Z",
     "iopub.status.idle": "2020-12-27T10:20:06.430085Z",
     "shell.execute_reply": "2020-12-27T10:20:06.430839Z"
    },
    "papermill": {
     "duration": 0.080618,
     "end_time": "2020-12-27T10:20:06.431010",
     "exception": false,
     "start_time": "2020-12-27T10:20:06.350392",
     "status": "completed"
    },
    "tags": []
   },
   "outputs": [
    {
     "name": "stdout",
     "output_type": "stream",
     "text": [
      "<class 'pandas.core.frame.DataFrame'>\n",
      "RangeIndex: 418 entries, 0 to 417\n",
      "Data columns (total 11 columns):\n",
      " #   Column       Non-Null Count  Dtype  \n",
      "---  ------       --------------  -----  \n",
      " 0   PassengerId  418 non-null    int64  \n",
      " 1   Pclass       418 non-null    int64  \n",
      " 2   Name         418 non-null    object \n",
      " 3   Sex          418 non-null    object \n",
      " 4   Age          332 non-null    float64\n",
      " 5   SibSp        418 non-null    int64  \n",
      " 6   Parch        418 non-null    int64  \n",
      " 7   Ticket       418 non-null    object \n",
      " 8   Fare         417 non-null    float64\n",
      " 9   Cabin        91 non-null     object \n",
      " 10  Embarked     418 non-null    object \n",
      "dtypes: float64(2), int64(4), object(5)\n",
      "memory usage: 36.0+ KB\n"
     ]
    }
   ],
   "source": [
    "df_test.info()"
   ]
  },
  {
   "cell_type": "markdown",
   "metadata": {
    "papermill": {
     "duration": 0.063017,
     "end_time": "2020-12-27T10:20:06.557424",
     "exception": false,
     "start_time": "2020-12-27T10:20:06.494407",
     "status": "completed"
    },
    "tags": []
   },
   "source": [
    "Lets explore each feature of the dataset and check if particular dataset is contributing any significant inforamtion for the model."
   ]
  },
  {
   "cell_type": "markdown",
   "metadata": {
    "papermill": {
     "duration": 0.067037,
     "end_time": "2020-12-27T10:20:06.688400",
     "exception": false,
     "start_time": "2020-12-27T10:20:06.621363",
     "status": "completed"
    },
    "tags": []
   },
   "source": [
    "# **Analysis of Each Feature Column**"
   ]
  },
  {
   "cell_type": "markdown",
   "metadata": {
    "papermill": {
     "duration": 0.064868,
     "end_time": "2020-12-27T10:20:06.820094",
     "exception": false,
     "start_time": "2020-12-27T10:20:06.755226",
     "status": "completed"
    },
    "tags": []
   },
   "source": [
    "# 1. PassengerId\n",
    "\n",
    "\n",
    "This column has unique ID details of the passengers which has no effect on the survival of a passenger."
   ]
  },
  {
   "cell_type": "markdown",
   "metadata": {
    "papermill": {
     "duration": 0.073605,
     "end_time": "2020-12-27T10:20:06.964763",
     "exception": false,
     "start_time": "2020-12-27T10:20:06.891158",
     "status": "completed"
    },
    "tags": []
   },
   "source": [
    "# 2. Survived\n",
    "\n",
    "\n",
    "Target column which has values 0 and 1 for all passengers who survived and not survived respectively."
   ]
  },
  {
   "cell_type": "markdown",
   "metadata": {
    "papermill": {
     "duration": 0.083873,
     "end_time": "2020-12-27T10:20:07.114047",
     "exception": false,
     "start_time": "2020-12-27T10:20:07.030174",
     "status": "completed"
    },
    "tags": []
   },
   "source": [
    "# 3. Pclass\n",
    "\n",
    "\n",
    "Boarding class of each passenger. First task is to check unique values in the Pclass and any NaN value."
   ]
  },
  {
   "cell_type": "code",
   "execution_count": 6,
   "metadata": {
    "execution": {
     "iopub.execute_input": "2020-12-27T10:20:07.253849Z",
     "iopub.status.busy": "2020-12-27T10:20:07.252795Z",
     "iopub.status.idle": "2020-12-27T10:20:07.257069Z",
     "shell.execute_reply": "2020-12-27T10:20:07.257633Z"
    },
    "papermill": {
     "duration": 0.077817,
     "end_time": "2020-12-27T10:20:07.257778",
     "exception": false,
     "start_time": "2020-12-27T10:20:07.179961",
     "status": "completed"
    },
    "tags": []
   },
   "outputs": [
    {
     "data": {
      "text/plain": [
       "array([3, 1, 2])"
      ]
     },
     "execution_count": 6,
     "metadata": {},
     "output_type": "execute_result"
    }
   ],
   "source": [
    "#unique value in the Pclass attribute\n",
    "df_train['Pclass'].unique()"
   ]
  },
  {
   "cell_type": "code",
   "execution_count": 7,
   "metadata": {
    "execution": {
     "iopub.execute_input": "2020-12-27T10:20:07.389444Z",
     "iopub.status.busy": "2020-12-27T10:20:07.388431Z",
     "iopub.status.idle": "2020-12-27T10:20:07.717776Z",
     "shell.execute_reply": "2020-12-27T10:20:07.718629Z"
    },
    "papermill": {
     "duration": 0.39701,
     "end_time": "2020-12-27T10:20:07.718850",
     "exception": false,
     "start_time": "2020-12-27T10:20:07.321840",
     "status": "completed"
    },
    "tags": []
   },
   "outputs": [
    {
     "data": {
      "image/png": "[encoded data removed]",
      "text/plain": [
       "<Figure size 720x360 with 1 Axes>"
      ]
     },
     "metadata": {
      "needs_background": "light"
     },
     "output_type": "display_data"
    }
   ],
   "source": [
    "#Visualization of Pclass column\n",
    "plt.figure(figsize=(10,5))\n",
    "plt.title(\"Countplot of 'Pclass', colors describing Survived or Not \", size=11)\n",
    "sns.countplot(data=df_train, x='Pclass', hue='Survived', color='#6E6B95', edgecolor='black')\n",
    "plt.show()"
   ]
  },
  {
   "cell_type": "markdown",
   "metadata": {
    "papermill": {
     "duration": 0.108439,
     "end_time": "2020-12-27T10:20:07.935992",
     "exception": false,
     "start_time": "2020-12-27T10:20:07.827553",
     "status": "completed"
    },
    "tags": []
   },
   "source": [
    "# 4. Name\n",
    "\n",
    "\n",
    "Name attribute describes the name of the passenger, which does not have affect on the survival of any person."
   ]
  },
  {
   "cell_type": "markdown",
   "metadata": {
    "papermill": {
     "duration": 0.105885,
     "end_time": "2020-12-27T10:20:08.150902",
     "exception": false,
     "start_time": "2020-12-27T10:20:08.045017",
     "status": "completed"
    },
    "tags": []
   },
   "source": [
    "# 5. Sex\n",
    "\n",
    "\n",
    "Sex column has no missing and NaN value and has unique values as Male and Female"
   ]
  },
  {
   "cell_type": "code",
   "execution_count": 8,
   "metadata": {
    "execution": {
     "iopub.execute_input": "2020-12-27T10:20:08.368739Z",
     "iopub.status.busy": "2020-12-27T10:20:08.367446Z",
     "iopub.status.idle": "2020-12-27T10:20:08.517969Z",
     "shell.execute_reply": "2020-12-27T10:20:08.518589Z"
    },
    "papermill": {
     "duration": 0.267518,
     "end_time": "2020-12-27T10:20:08.518742",
     "exception": false,
     "start_time": "2020-12-27T10:20:08.251224",
     "status": "completed"
    },
    "tags": []
   },
   "outputs": [
    {
     "data": {
      "image/png": "[encoded data removed]",
      "text/plain": [
       "<Figure size 720x360 with 1 Axes>"
      ]
     },
     "metadata": {
      "needs_background": "light"
     },
     "output_type": "display_data"
    }
   ],
   "source": [
    "#Visualization of Sex column\n",
    "plt.figure(figsize=(10,5))\n",
    "plt.title(\"Count plot of Sex attribute, color describing survived or not\", size=11)\n",
    "sns.countplot(x='Sex', hue='Survived',data=df_train, color='#6E6B95', edgecolor='black')\n",
    "plt.show()"
   ]
  },
  {
   "cell_type": "markdown",
   "metadata": {
    "papermill": {
     "duration": 0.113321,
     "end_time": "2020-12-27T10:20:08.739904",
     "exception": false,
     "start_time": "2020-12-27T10:20:08.626583",
     "status": "completed"
    },
    "tags": []
   },
   "source": [
    "Model best work with the numerical data, so it is essential to convert all categorical features into numerical. For same purpose we can use scikit-learn's OrdinalEncoder from preprocessing module."
   ]
  },
  {
   "cell_type": "code",
   "execution_count": 9,
   "metadata": {
    "execution": {
     "iopub.execute_input": "2020-12-27T10:20:08.981046Z",
     "iopub.status.busy": "2020-12-27T10:20:08.979047Z",
     "iopub.status.idle": "2020-12-27T10:20:09.037668Z",
     "shell.execute_reply": "2020-12-27T10:20:09.039160Z"
    },
    "papermill": {
     "duration": 0.17698,
     "end_time": "2020-12-27T10:20:09.039358",
     "exception": false,
     "start_time": "2020-12-27T10:20:08.862378",
     "status": "completed"
    },
    "tags": []
   },
   "outputs": [
    {
     "data": {
      "text/html": [
       "<div>\n",
       "<style scoped>\n",
       "    .dataframe tbody tr th:only-of-type {\n",
       "        vertical-align: middle;\n",
       "    }\n",
       "\n",
       "    .dataframe tbody tr th {\n",
       "        vertical-align: top;\n",
       "    }\n",
       "\n",
       "    .dataframe thead th {\n",
       "        text-align: right;\n",
       "    }\n",
       "</style>\n",
       "<table border=\"1\" class=\"dataframe\">\n",
       "  <thead>\n",
       "    <tr style=\"text-align: right;\">\n",
       "      <th></th>\n",
       "      <th>PassengerId</th>\n",
       "      <th>Survived</th>\n",
       "      <th>Pclass</th>\n",
       "      <th>Name</th>\n",
       "      <th>Sex</th>\n",
       "      <th>Age</th>\n",
       "      <th>SibSp</th>\n",
       "      <th>Parch</th>\n",
       "      <th>Ticket</th>\n",
       "      <th>Fare</th>\n",
       "      <th>Cabin</th>\n",
       "      <th>Embarked</th>\n",
       "    </tr>\n",
       "  </thead>\n",
       "  <tbody>\n",
       "    <tr>\n",
       "      <th>0</th>\n",
       "      <td>1</td>\n",
       "      <td>0</td>\n",
       "      <td>3</td>\n",
       "      <td>Braund, Mr. Owen Harris</td>\n",
       "      <td>1</td>\n",
       "      <td>22.0</td>\n",
       "      <td>1</td>\n",
       "      <td>0</td>\n",
       "      <td>A/5 21171</td>\n",
       "      <td>7.2500</td>\n",
       "      <td>NaN</td>\n",
       "      <td>S</td>\n",
       "    </tr>\n",
       "    <tr>\n",
       "      <th>1</th>\n",
       "      <td>2</td>\n",
       "      <td>1</td>\n",
       "      <td>1</td>\n",
       "      <td>Cumings, Mrs. John Bradley (Florence Briggs Th...</td>\n",
       "      <td>0</td>\n",
       "      <td>38.0</td>\n",
       "      <td>1</td>\n",
       "      <td>0</td>\n",
       "      <td>PC 17599</td>\n",
       "      <td>71.2833</td>\n",
       "      <td>C85</td>\n",
       "      <td>C</td>\n",
       "    </tr>\n",
       "    <tr>\n",
       "      <th>2</th>\n",
       "      <td>3</td>\n",
       "      <td>1</td>\n",
       "      <td>3</td>\n",
       "      <td>Heikkinen, Miss. Laina</td>\n",
       "      <td>0</td>\n",
       "      <td>26.0</td>\n",
       "      <td>0</td>\n",
       "      <td>0</td>\n",
       "      <td>STON/O2. 3101282</td>\n",
       "      <td>7.9250</td>\n",
       "      <td>NaN</td>\n",
       "      <td>S</td>\n",
       "    </tr>\n",
       "    <tr>\n",
       "      <th>3</th>\n",
       "      <td>4</td>\n",
       "      <td>1</td>\n",
       "      <td>1</td>\n",
       "      <td>Futrelle, Mrs. Jacques Heath (Lily May Peel)</td>\n",
       "      <td>0</td>\n",
       "      <td>35.0</td>\n",
       "      <td>1</td>\n",
       "      <td>0</td>\n",
       "      <td>113803</td>\n",
       "      <td>53.1000</td>\n",
       "      <td>C123</td>\n",
       "      <td>S</td>\n",
       "    </tr>\n",
       "    <tr>\n",
       "      <th>4</th>\n",
       "      <td>5</td>\n",
       "      <td>0</td>\n",
       "      <td>3</td>\n",
       "      <td>Allen, Mr. William Henry</td>\n",
       "      <td>1</td>\n",
       "      <td>35.0</td>\n",
       "      <td>0</td>\n",
       "      <td>0</td>\n",
       "      <td>373450</td>\n",
       "      <td>8.0500</td>\n",
       "      <td>NaN</td>\n",
       "      <td>S</td>\n",
       "    </tr>\n",
       "  </tbody>\n",
       "</table>\n",
       "</div>"
      ],
      "text/plain": [
       "   PassengerId  Survived  Pclass  \\\n",
       "0            1         0       3   \n",
       "1            2         1       1   \n",
       "2            3         1       3   \n",
       "3            4         1       1   \n",
       "4            5         0       3   \n",
       "\n",
       "                                                Name  Sex   Age  SibSp  Parch  \\\n",
       "0                            Braund, Mr. Owen Harris    1  22.0      1      0   \n",
       "1  Cumings, Mrs. John Bradley (Florence Briggs Th...    0  38.0      1      0   \n",
       "2                             Heikkinen, Miss. Laina    0  26.0      0      0   \n",
       "3       Futrelle, Mrs. Jacques Heath (Lily May Peel)    0  35.0      1      0   \n",
       "4                           Allen, Mr. William Henry    1  35.0      0      0   \n",
       "\n",
       "             Ticket     Fare Cabin Embarked  \n",
       "0         A/5 21171   7.2500   NaN        S  \n",
       "1          PC 17599  71.2833   C85        C  \n",
       "2  STON/O2. 3101282   7.9250   NaN        S  \n",
       "3            113803  53.1000  C123        S  \n",
       "4            373450   8.0500   NaN        S  "
      ]
     },
     "execution_count": 9,
     "metadata": {},
     "output_type": "execute_result"
    }
   ],
   "source": [
    "for dataset in df:\n",
    "    ordinal_encoder_sex = OrdinalEncoder()\n",
    "    dataset['Sex'] = ordinal_encoder_sex.fit_transform(dataset[['Sex']]).astype(int)\n",
    "\n",
    "df_train.head(5)"
   ]
  },
  {
   "cell_type": "code",
   "execution_count": 10,
   "metadata": {
    "execution": {
     "iopub.execute_input": "2020-12-27T10:20:09.244006Z",
     "iopub.status.busy": "2020-12-27T10:20:09.242896Z",
     "iopub.status.idle": "2020-12-27T10:20:09.247795Z",
     "shell.execute_reply": "2020-12-27T10:20:09.250542Z"
    },
    "papermill": {
     "duration": 0.113929,
     "end_time": "2020-12-27T10:20:09.250772",
     "exception": false,
     "start_time": "2020-12-27T10:20:09.136843",
     "status": "completed"
    },
    "tags": []
   },
   "outputs": [
    {
     "name": "stdout",
     "output_type": "stream",
     "text": [
      "Sex column's 0 is female and 1 is male\n"
     ]
    }
   ],
   "source": [
    "print(\"Sex column's 0 is {} and 1 is {}\".format(ordinal_encoder_sex.categories_[0][0],ordinal_encoder_sex.categories_[0][1] ))"
   ]
  },
  {
   "cell_type": "markdown",
   "metadata": {
    "papermill": {
     "duration": 0.097174,
     "end_time": "2020-12-27T10:20:09.444369",
     "exception": false,
     "start_time": "2020-12-27T10:20:09.347195",
     "status": "completed"
    },
    "tags": []
   },
   "source": [
    "# 6. Age\n",
    "\n",
    "\n",
    "Age has lot of missing values, to impute the missing data we can use median value of the Age column.\n",
    "\n",
    "The problem with continuous numerical data is that ofte it has a skewed distribution, i.e some ages might be more frequent than others which can have adverse affect on the overall efficiency of the model. To avoid this we can use binning on continuous feature."
   ]
  },
  {
   "cell_type": "code",
   "execution_count": 11,
   "metadata": {
    "execution": {
     "iopub.execute_input": "2020-12-27T10:20:09.649238Z",
     "iopub.status.busy": "2020-12-27T10:20:09.648192Z",
     "iopub.status.idle": "2020-12-27T10:20:10.541960Z",
     "shell.execute_reply": "2020-12-27T10:20:10.543575Z"
    },
    "papermill": {
     "duration": 1.000887,
     "end_time": "2020-12-27T10:20:10.543772",
     "exception": false,
     "start_time": "2020-12-27T10:20:09.542885",
     "status": "completed"
    },
    "tags": []
   },
   "outputs": [
    {
     "name": "stderr",
     "output_type": "stream",
     "text": [
      "/opt/conda/lib/python3.7/site-packages/numpy/lib/histograms.py:839: RuntimeWarning: invalid value encountered in greater_equal\n",
      "  keep = (tmp_a >= first_edge)\n",
      "/opt/conda/lib/python3.7/site-packages/numpy/lib/histograms.py:840: RuntimeWarning: invalid value encountered in less_equal\n",
      "  keep &= (tmp_a <= last_edge)\n"
     ]
    },
    {
     "data": {
      "image/png": "[encoded data removed]",
      "text/plain": [
       "<Figure size 720x360 with 2 Axes>"
      ]
     },
     "metadata": {
      "needs_background": "light"
     },
     "output_type": "display_data"
    }
   ],
   "source": [
    "# Checking Age's distribution in the Titanic dataset\n",
    "\n",
    "fig, axes = plt.subplots(1,2, figsize=(10,5))\n",
    "axes[0].set_title(\"Age feature in Train Dataset\")  \n",
    "axes[1].set_title(\"Age feature in Test Dataset\")  \n",
    "\n",
    "for (ax,dataset) in zip(axes.ravel(),df):\n",
    "    x = dataset.loc[:, 'Age']\n",
    "    ax.hist(x, alpha=0.5, color='#6E6B95', edgecolor='black')\n",
    "    ax.set_xlabel('Age', size=11)\n",
    "    ax.set_ylabel('Frequency', size=11)"
   ]
  },
  {
   "cell_type": "markdown",
   "metadata": {
    "papermill": {
     "duration": 0.124647,
     "end_time": "2020-12-27T10:20:10.789679",
     "exception": false,
     "start_time": "2020-12-27T10:20:10.665032",
     "status": "completed"
    },
    "tags": []
   },
   "source": [
    "Clearly from the histogram we can see that both training and test data have left skewed dataset, i.e low age value is more frequent.\n",
    "\n",
    "We will try to use adaptive binning for age feature as it helps in avoiding ending up non uniform bins. Quartile based binning is a good starategy in age attribute."
   ]
  },
  {
   "cell_type": "code",
   "execution_count": 12,
   "metadata": {
    "execution": {
     "iopub.execute_input": "2020-12-27T10:20:11.009014Z",
     "iopub.status.busy": "2020-12-27T10:20:11.007766Z",
     "iopub.status.idle": "2020-12-27T10:20:11.023608Z",
     "shell.execute_reply": "2020-12-27T10:20:11.022777Z"
    },
    "papermill": {
     "duration": 0.130374,
     "end_time": "2020-12-27T10:20:11.023734",
     "exception": false,
     "start_time": "2020-12-27T10:20:10.893360",
     "status": "completed"
    },
    "tags": []
   },
   "outputs": [
    {
     "name": "stdout",
     "output_type": "stream",
     "text": [
      "0.00     0.420\n",
      "0.25    20.125\n",
      "0.50    28.000\n",
      "0.75    38.000\n",
      "1.00    80.000\n",
      "Name: Age, dtype: float64\n",
      "0.00     0.17\n",
      "0.25    21.00\n",
      "0.50    27.00\n",
      "0.75    39.00\n",
      "1.00    76.00\n",
      "Name: Age, dtype: float64\n"
     ]
    }
   ],
   "source": [
    "# Quartile Binning\n",
    "quartile_list = [0, 0.25, 0.5, 0.75, 1.0]\n",
    "\n",
    "for dataset in df:\n",
    "    quantiles = dataset['Age'].quantile(quartile_list)\n",
    "    print(quantiles)"
   ]
  },
  {
   "cell_type": "code",
   "execution_count": 13,
   "metadata": {
    "execution": {
     "iopub.execute_input": "2020-12-27T10:20:11.242339Z",
     "iopub.status.busy": "2020-12-27T10:20:11.241139Z",
     "iopub.status.idle": "2020-12-27T10:20:11.246064Z",
     "shell.execute_reply": "2020-12-27T10:20:11.247189Z"
    },
    "papermill": {
     "duration": 0.13592,
     "end_time": "2020-12-27T10:20:11.247443",
     "exception": false,
     "start_time": "2020-12-27T10:20:11.111523",
     "status": "completed"
    },
    "tags": []
   },
   "outputs": [],
   "source": [
    "\n",
    "quartile_label = ['1st_Q', '2nd_Q', '3rd_Q', '4th_Q']\n",
    "for dataset in df:\n",
    "  simple_imputer = SimpleImputer(strategy='median')\n",
    "  dataset['Age'] = simple_imputer.fit_transform(dataset[['Age']])\n",
    "\n",
    "#Binning of the age attribute into quartiles\n",
    "df_train['Age'] = pd.cut(df_train['Age'], bins=[0.40, 20.125, 28.0, 38.0, 80.0], labels=quartile_label)\n",
    "df_test['Age'] = pd.cut(df_test['Age'], bins=[0.10, 21.0, 27.0, 39.0, 76.0], labels=quartile_label)"
   ]
  },
  {
   "cell_type": "code",
   "execution_count": 14,
   "metadata": {
    "execution": {
     "iopub.execute_input": "2020-12-27T10:20:11.473297Z",
     "iopub.status.busy": "2020-12-27T10:20:11.472181Z",
     "iopub.status.idle": "2020-12-27T10:20:11.478352Z",
     "shell.execute_reply": "2020-12-27T10:20:11.479304Z"
    },
    "papermill": {
     "duration": 0.102084,
     "end_time": "2020-12-27T10:20:11.479524",
     "exception": false,
     "start_time": "2020-12-27T10:20:11.377440",
     "status": "completed"
    },
    "tags": []
   },
   "outputs": [
    {
     "name": "stdout",
     "output_type": "stream",
     "text": [
      "Age column's discrete value 1st_Q is 1st_Q, 2nd_Q is 2nd_Q, 3rd_Q is 3rd_Q and 4th_Q is 4th_Q \n"
     ]
    }
   ],
   "source": [
    "#converting categorical Age feature into discrete data using Ordinal Encoder\n",
    "\n",
    "for dataset in df:\n",
    "  ordinal_encoder_age = OrdinalEncoder()\n",
    "  dataset['Age'] = ordinal_encoder_age.fit_transform(dataset[['Age']]).astype(int)\n",
    "#Need to change\n",
    "print(\"Age column's discrete value {} is 1st_Q, {} is 2nd_Q, {} is 3rd_Q and {} is 4th_Q \".format(ordinal_encoder_age.categories_[0][0],ordinal_encoder_age.categories_[0][1],\n",
    "      ordinal_encoder_age.categories_[0][2], ordinal_encoder_age.categories_[0][3]))"
   ]
  },
  {
   "cell_type": "code",
   "execution_count": 15,
   "metadata": {
    "execution": {
     "iopub.execute_input": "2020-12-27T10:20:11.649288Z",
     "iopub.status.busy": "2020-12-27T10:20:11.648084Z",
     "iopub.status.idle": "2020-12-27T10:20:11.881876Z",
     "shell.execute_reply": "2020-12-27T10:20:11.881132Z"
    },
    "papermill": {
     "duration": 0.328225,
     "end_time": "2020-12-27T10:20:11.882208",
     "exception": false,
     "start_time": "2020-12-27T10:20:11.553983",
     "status": "completed"
    },
    "tags": []
   },
   "outputs": [
    {
     "data": {
      "text/plain": [
       "<matplotlib.axes._subplots.AxesSubplot at 0x7f38464f2c90>"
      ]
     },
     "execution_count": 15,
     "metadata": {},
     "output_type": "execute_result"
    },
    {
     "data": {
      "image/png": "[encoded data removed]",
      "text/plain": [
       "<Figure size 720x360 with 1 Axes>"
      ]
     },
     "metadata": {
      "needs_background": "light"
     },
     "output_type": "display_data"
    }
   ],
   "source": [
    "# Visualization of Binned Age\n",
    "plt.figure(figsize=(10,5))\n",
    "plt.title('Count plot of age attribute, color, color describing survived or not', size=11)\n",
    "sns.countplot(data=df_train, x='Age', hue='Survived', color='#6E6B95', edgecolor='black')"
   ]
  },
  {
   "cell_type": "markdown",
   "metadata": {
    "papermill": {
     "duration": 0.085287,
     "end_time": "2020-12-27T10:20:12.052560",
     "exception": false,
     "start_time": "2020-12-27T10:20:11.967273",
     "status": "completed"
    },
    "tags": []
   },
   "source": [
    "# 7. SibSp and Parch\n",
    "\n",
    "\n",
    "SibSp column describes the number of sibling and spouse onboarded the Tianic ship. SipSp attribute can be coupled with the Parch of the dataset which tells about the number of parents and childrens"
   ]
  },
  {
   "cell_type": "code",
   "execution_count": 16,
   "metadata": {
    "execution": {
     "iopub.execute_input": "2020-12-27T10:20:12.248179Z",
     "iopub.status.busy": "2020-12-27T10:20:12.232843Z",
     "iopub.status.idle": "2020-12-27T10:20:12.541663Z",
     "shell.execute_reply": "2020-12-27T10:20:12.543131Z"
    },
    "papermill": {
     "duration": 0.406489,
     "end_time": "2020-12-27T10:20:12.543376",
     "exception": false,
     "start_time": "2020-12-27T10:20:12.136887",
     "status": "completed"
    },
    "tags": []
   },
   "outputs": [
    {
     "data": {
      "text/plain": [
       "<matplotlib.axes._subplots.AxesSubplot at 0x7f384647ad90>"
      ]
     },
     "execution_count": 16,
     "metadata": {},
     "output_type": "execute_result"
    },
    {
     "data": {
      "image/png": "[encoded data removed]",
      "text/plain": [
       "<Figure size 720x360 with 1 Axes>"
      ]
     },
     "metadata": {
      "needs_background": "light"
     },
     "output_type": "display_data"
    }
   ],
   "source": [
    "for dataset in df:\n",
    "  dataset['Family_Size'] = dataset['SibSp'] + dataset['Parch'] + 1\n",
    "\n",
    "plt.figure(figsize=(10,5))\n",
    "plt.title(\"Count plot of Family size, color describes survived or not\", size=10)\n",
    "sns.countplot(data=df_train, x='Family_Size', hue='Survived', color='#6E6B95', edgecolor='black')"
   ]
  },
  {
   "cell_type": "markdown",
   "metadata": {
    "papermill": {
     "duration": 0.096486,
     "end_time": "2020-12-27T10:20:12.766611",
     "exception": false,
     "start_time": "2020-12-27T10:20:12.670125",
     "status": "completed"
    },
    "tags": []
   },
   "source": [
    "The family size with value 1 has significant higher value then other family size, we can further investigate family size with one."
   ]
  },
  {
   "cell_type": "code",
   "execution_count": 17,
   "metadata": {
    "execution": {
     "iopub.execute_input": "2020-12-27T10:20:12.965568Z",
     "iopub.status.busy": "2020-12-27T10:20:12.964296Z",
     "iopub.status.idle": "2020-12-27T10:20:13.153031Z",
     "shell.execute_reply": "2020-12-27T10:20:13.153631Z"
    },
    "papermill": {
     "duration": 0.298809,
     "end_time": "2020-12-27T10:20:13.153785",
     "exception": false,
     "start_time": "2020-12-27T10:20:12.854976",
     "status": "completed"
    },
    "tags": []
   },
   "outputs": [
    {
     "data": {
      "text/plain": [
       "<matplotlib.axes._subplots.AxesSubplot at 0x7f384652a890>"
      ]
     },
     "execution_count": 17,
     "metadata": {},
     "output_type": "execute_result"
    },
    {
     "data": {
      "image/png": "[encoded data removed]",
      "text/plain": [
       "<Figure size 720x360 with 1 Axes>"
      ]
     },
     "metadata": {
      "needs_background": "light"
     },
     "output_type": "display_data"
    }
   ],
   "source": [
    "for dataset in df:\n",
    "  dataset['Alone'] = 0\n",
    "  dataset.loc[dataset['Family_Size']==1, 'Alone'] = 1\n",
    "plt.figure(figsize=(10,5))\n",
    "plt.title('Countplot of Alone column, color describing survived or not')\n",
    "sns.countplot(data=df_train, x='Alone', hue='Survived', color='#6E6B95', edgecolor='black')"
   ]
  },
  {
   "cell_type": "markdown",
   "metadata": {
    "papermill": {
     "duration": 0.078928,
     "end_time": "2020-12-27T10:20:13.320272",
     "exception": false,
     "start_time": "2020-12-27T10:20:13.241344",
     "status": "completed"
    },
    "tags": []
   },
   "source": [
    "# 9. Fare \n",
    "\n",
    "\n",
    "Fare column of the dataset has some missing value , first we have to impute those values. We will also use binning for the the same feature."
   ]
  },
  {
   "cell_type": "code",
   "execution_count": 18,
   "metadata": {
    "execution": {
     "iopub.execute_input": "2020-12-27T10:20:13.497065Z",
     "iopub.status.busy": "2020-12-27T10:20:13.495910Z",
     "iopub.status.idle": "2020-12-27T10:20:13.874536Z",
     "shell.execute_reply": "2020-12-27T10:20:13.873851Z"
    },
    "papermill": {
     "duration": 0.477852,
     "end_time": "2020-12-27T10:20:13.874686",
     "exception": false,
     "start_time": "2020-12-27T10:20:13.396834",
     "status": "completed"
    },
    "tags": []
   },
   "outputs": [
    {
     "name": "stderr",
     "output_type": "stream",
     "text": [
      "/opt/conda/lib/python3.7/site-packages/numpy/lib/histograms.py:839: RuntimeWarning: invalid value encountered in greater_equal\n",
      "  keep = (tmp_a >= first_edge)\n",
      "/opt/conda/lib/python3.7/site-packages/numpy/lib/histograms.py:840: RuntimeWarning: invalid value encountered in less_equal\n",
      "  keep &= (tmp_a <= last_edge)\n"
     ]
    },
    {
     "data": {
      "image/png": "[encoded data removed]",
      "text/plain": [
       "<Figure size 720x360 with 2 Axes>"
      ]
     },
     "metadata": {
      "needs_background": "light"
     },
     "output_type": "display_data"
    }
   ],
   "source": [
    "# Checking Fare attribute's distribution over the test and train dataset\n",
    "\n",
    "fig, axes = plt.subplots(1,2,figsize=(10,5))\n",
    "axes[0].set_title('Fare column in train dataset')\n",
    "axes[1].set_title('Fare column in test dataset')\n",
    "for axs,dataset in zip(axes.ravel(), df):\n",
    "  x = dataset.loc[:,'Fare']\n",
    "  axs.hist(x, alpha=0.5,  color='#6E6B95', edgecolor='black')\n",
    "  axs.set_xlabel('Fare')\n",
    "  axs.set_ylabel('Frequency')"
   ]
  },
  {
   "cell_type": "code",
   "execution_count": 19,
   "metadata": {
    "execution": {
     "iopub.execute_input": "2020-12-27T10:20:14.052307Z",
     "iopub.status.busy": "2020-12-27T10:20:14.051454Z",
     "iopub.status.idle": "2020-12-27T10:20:14.058173Z",
     "shell.execute_reply": "2020-12-27T10:20:14.058703Z"
    },
    "papermill": {
     "duration": 0.098388,
     "end_time": "2020-12-27T10:20:14.058851",
     "exception": false,
     "start_time": "2020-12-27T10:20:13.960463",
     "status": "completed"
    },
    "tags": []
   },
   "outputs": [
    {
     "name": "stdout",
     "output_type": "stream",
     "text": [
      "          Fare\n",
      "0.00    0.0000\n",
      "0.25    7.9104\n",
      "0.50   14.4542\n",
      "0.75   31.0000\n",
      "1.00  512.3292\n",
      "          Fare\n",
      "0.00    0.0000\n",
      "0.25    7.8958\n",
      "0.50   14.4542\n",
      "0.75   31.5000\n",
      "1.00  512.3292\n"
     ]
    }
   ],
   "source": [
    "quartile_list_fare = [0, 0.25, 0.50, 0.75, 1.0]\n",
    "for dataset in df:\n",
    "  quantile_fare = dataset[['Fare']].quantile(quartile_list_fare)\n",
    "  print(quantile_fare)"
   ]
  },
  {
   "cell_type": "markdown",
   "metadata": {
    "papermill": {
     "duration": 0.076782,
     "end_time": "2020-12-27T10:20:14.212265",
     "exception": false,
     "start_time": "2020-12-27T10:20:14.135483",
     "status": "completed"
    },
    "tags": []
   },
   "source": [
    "We can infer from the quartile values that below 50 percentile of the whole population paid less than 15 dollar for ride, so fare attribute has skewed characteristic\n",
    "\n",
    "We will use adaptive binning same as age for the fare attribute."
   ]
  },
  {
   "cell_type": "code",
   "execution_count": 20,
   "metadata": {
    "execution": {
     "iopub.execute_input": "2020-12-27T10:20:14.381462Z",
     "iopub.status.busy": "2020-12-27T10:20:14.377830Z",
     "iopub.status.idle": "2020-12-27T10:20:14.387872Z",
     "shell.execute_reply": "2020-12-27T10:20:14.387176Z"
    },
    "papermill": {
     "duration": 0.09796,
     "end_time": "2020-12-27T10:20:14.388015",
     "exception": false,
     "start_time": "2020-12-27T10:20:14.290055",
     "status": "completed"
    },
    "tags": []
   },
   "outputs": [],
   "source": [
    "for dataset in df:\n",
    "  simple_imputer_fare = SimpleImputer(strategy='median')\n",
    "  dataset['Fare'] = simple_imputer_fare.fit_transform(dataset[['Fare']])\n"
   ]
  },
  {
   "cell_type": "code",
   "execution_count": 21,
   "metadata": {
    "execution": {
     "iopub.execute_input": "2020-12-27T10:20:14.573060Z",
     "iopub.status.busy": "2020-12-27T10:20:14.571953Z",
     "iopub.status.idle": "2020-12-27T10:20:14.575771Z",
     "shell.execute_reply": "2020-12-27T10:20:14.576308Z"
    },
    "papermill": {
     "duration": 0.10968,
     "end_time": "2020-12-27T10:20:14.576444",
     "exception": false,
     "start_time": "2020-12-27T10:20:14.466764",
     "status": "completed"
    },
    "tags": []
   },
   "outputs": [
    {
     "data": {
      "text/html": [
       "<div>\n",
       "<style scoped>\n",
       "    .dataframe tbody tr th:only-of-type {\n",
       "        vertical-align: middle;\n",
       "    }\n",
       "\n",
       "    .dataframe tbody tr th {\n",
       "        vertical-align: top;\n",
       "    }\n",
       "\n",
       "    .dataframe thead th {\n",
       "        text-align: right;\n",
       "    }\n",
       "</style>\n",
       "<table border=\"1\" class=\"dataframe\">\n",
       "  <thead>\n",
       "    <tr style=\"text-align: right;\">\n",
       "      <th></th>\n",
       "      <th>PassengerId</th>\n",
       "      <th>Survived</th>\n",
       "      <th>Pclass</th>\n",
       "      <th>Name</th>\n",
       "      <th>Sex</th>\n",
       "      <th>Age</th>\n",
       "      <th>SibSp</th>\n",
       "      <th>Parch</th>\n",
       "      <th>Ticket</th>\n",
       "      <th>Fare</th>\n",
       "      <th>Cabin</th>\n",
       "      <th>Embarked</th>\n",
       "      <th>Family_Size</th>\n",
       "      <th>Alone</th>\n",
       "    </tr>\n",
       "  </thead>\n",
       "  <tbody>\n",
       "    <tr>\n",
       "      <th>0</th>\n",
       "      <td>1</td>\n",
       "      <td>0</td>\n",
       "      <td>3</td>\n",
       "      <td>Braund, Mr. Owen Harris</td>\n",
       "      <td>1</td>\n",
       "      <td>1</td>\n",
       "      <td>1</td>\n",
       "      <td>0</td>\n",
       "      <td>A/5 21171</td>\n",
       "      <td>1st_Q</td>\n",
       "      <td>NaN</td>\n",
       "      <td>S</td>\n",
       "      <td>2</td>\n",
       "      <td>0</td>\n",
       "    </tr>\n",
       "    <tr>\n",
       "      <th>1</th>\n",
       "      <td>2</td>\n",
       "      <td>1</td>\n",
       "      <td>1</td>\n",
       "      <td>Cumings, Mrs. John Bradley (Florence Briggs Th...</td>\n",
       "      <td>0</td>\n",
       "      <td>2</td>\n",
       "      <td>1</td>\n",
       "      <td>0</td>\n",
       "      <td>PC 17599</td>\n",
       "      <td>4th_Q</td>\n",
       "      <td>C85</td>\n",
       "      <td>C</td>\n",
       "      <td>2</td>\n",
       "      <td>0</td>\n",
       "    </tr>\n",
       "    <tr>\n",
       "      <th>2</th>\n",
       "      <td>3</td>\n",
       "      <td>1</td>\n",
       "      <td>3</td>\n",
       "      <td>Heikkinen, Miss. Laina</td>\n",
       "      <td>0</td>\n",
       "      <td>1</td>\n",
       "      <td>0</td>\n",
       "      <td>0</td>\n",
       "      <td>STON/O2. 3101282</td>\n",
       "      <td>2nd_Q</td>\n",
       "      <td>NaN</td>\n",
       "      <td>S</td>\n",
       "      <td>1</td>\n",
       "      <td>1</td>\n",
       "    </tr>\n",
       "    <tr>\n",
       "      <th>3</th>\n",
       "      <td>4</td>\n",
       "      <td>1</td>\n",
       "      <td>1</td>\n",
       "      <td>Futrelle, Mrs. Jacques Heath (Lily May Peel)</td>\n",
       "      <td>0</td>\n",
       "      <td>2</td>\n",
       "      <td>1</td>\n",
       "      <td>0</td>\n",
       "      <td>113803</td>\n",
       "      <td>4th_Q</td>\n",
       "      <td>C123</td>\n",
       "      <td>S</td>\n",
       "      <td>2</td>\n",
       "      <td>0</td>\n",
       "    </tr>\n",
       "    <tr>\n",
       "      <th>4</th>\n",
       "      <td>5</td>\n",
       "      <td>0</td>\n",
       "      <td>3</td>\n",
       "      <td>Allen, Mr. William Henry</td>\n",
       "      <td>1</td>\n",
       "      <td>2</td>\n",
       "      <td>0</td>\n",
       "      <td>0</td>\n",
       "      <td>373450</td>\n",
       "      <td>2nd_Q</td>\n",
       "      <td>NaN</td>\n",
       "      <td>S</td>\n",
       "      <td>1</td>\n",
       "      <td>1</td>\n",
       "    </tr>\n",
       "  </tbody>\n",
       "</table>\n",
       "</div>"
      ],
      "text/plain": [
       "   PassengerId  Survived  Pclass  \\\n",
       "0            1         0       3   \n",
       "1            2         1       1   \n",
       "2            3         1       3   \n",
       "3            4         1       1   \n",
       "4            5         0       3   \n",
       "\n",
       "                                                Name  Sex  Age  SibSp  Parch  \\\n",
       "0                            Braund, Mr. Owen Harris    1    1      1      0   \n",
       "1  Cumings, Mrs. John Bradley (Florence Briggs Th...    0    2      1      0   \n",
       "2                             Heikkinen, Miss. Laina    0    1      0      0   \n",
       "3       Futrelle, Mrs. Jacques Heath (Lily May Peel)    0    2      1      0   \n",
       "4                           Allen, Mr. William Henry    1    2      0      0   \n",
       "\n",
       "             Ticket   Fare Cabin Embarked  Family_Size  Alone  \n",
       "0         A/5 21171  1st_Q   NaN        S            2      0  \n",
       "1          PC 17599  4th_Q   C85        C            2      0  \n",
       "2  STON/O2. 3101282  2nd_Q   NaN        S            1      1  \n",
       "3            113803  4th_Q  C123        S            2      0  \n",
       "4            373450  2nd_Q   NaN        S            1      1  "
      ]
     },
     "execution_count": 21,
     "metadata": {},
     "output_type": "execute_result"
    }
   ],
   "source": [
    "#Binning fare attribute into quartile\n",
    "quartile_range_fare = ['1st_Q', '2nd_Q', '3rd_Q', '4th_Q']\n",
    "df_train['Fare'] = pd.cut(df_train['Fare'], bins=[-1.0, 7.91, 14.45, 31.0, 512.33], labels=quartile_range_fare)\n",
    "df_test['Fare'] = pd.cut(df_test['Fare'], bins=[-1.0, 7.89, 14.45, 31.47, 512.33], labels=quartile_range_fare)\n",
    "\n",
    "df_train.head(5)"
   ]
  },
  {
   "cell_type": "code",
   "execution_count": 22,
   "metadata": {
    "execution": {
     "iopub.execute_input": "2020-12-27T10:20:14.742740Z",
     "iopub.status.busy": "2020-12-27T10:20:14.741861Z",
     "iopub.status.idle": "2020-12-27T10:20:14.746374Z",
     "shell.execute_reply": "2020-12-27T10:20:14.745385Z"
    },
    "papermill": {
     "duration": 0.092821,
     "end_time": "2020-12-27T10:20:14.746514",
     "exception": false,
     "start_time": "2020-12-27T10:20:14.653693",
     "status": "completed"
    },
    "tags": []
   },
   "outputs": [],
   "source": [
    "# Converting Fare categorical attribute into discrete numerical value\n",
    "for dataset in df:\n",
    "  ordinal_encoder_fare = OrdinalEncoder()\n",
    "  dataset['Fare'] = ordinal_encoder_fare.fit_transform(dataset[['Fare']]).astype(int)"
   ]
  },
  {
   "cell_type": "markdown",
   "metadata": {
    "papermill": {
     "duration": 0.07875,
     "end_time": "2020-12-27T10:20:14.903201",
     "exception": false,
     "start_time": "2020-12-27T10:20:14.824451",
     "status": "completed"
    },
    "tags": []
   },
   "source": [
    "# 10. Cabin"
   ]
  },
  {
   "cell_type": "markdown",
   "metadata": {
    "papermill": {
     "duration": 0.07734,
     "end_time": "2020-12-27T10:20:15.058345",
     "exception": false,
     "start_time": "2020-12-27T10:20:14.981005",
     "status": "completed"
    },
    "tags": []
   },
   "source": [
    "# 11. Embarked"
   ]
  },
  {
   "cell_type": "code",
   "execution_count": 23,
   "metadata": {
    "execution": {
     "iopub.execute_input": "2020-12-27T10:20:15.246177Z",
     "iopub.status.busy": "2020-12-27T10:20:15.242250Z",
     "iopub.status.idle": "2020-12-27T10:20:15.416154Z",
     "shell.execute_reply": "2020-12-27T10:20:15.415056Z"
    },
    "papermill": {
     "duration": 0.279415,
     "end_time": "2020-12-27T10:20:15.416287",
     "exception": false,
     "start_time": "2020-12-27T10:20:15.136872",
     "status": "completed"
    },
    "tags": []
   },
   "outputs": [
    {
     "data": {
      "text/plain": [
       "<matplotlib.axes._subplots.AxesSubplot at 0x7f3846247510>"
      ]
     },
     "execution_count": 23,
     "metadata": {},
     "output_type": "execute_result"
    },
    {
     "data": {
      "image/png": "[encoded data removed]",
      "text/plain": [
       "<Figure size 432x288 with 1 Axes>"
      ]
     },
     "metadata": {
      "needs_background": "light"
     },
     "output_type": "display_data"
    }
   ],
   "source": [
    "plt.title('Countplot of Embarked column, color describing survived or not', size=11)\n",
    "sns.countplot(data=df_train, x='Embarked', hue='Survived', color='#6E6B95', edgecolor='black')"
   ]
  },
  {
   "cell_type": "markdown",
   "metadata": {
    "papermill": {
     "duration": 0.087944,
     "end_time": "2020-12-27T10:20:15.593359",
     "exception": false,
     "start_time": "2020-12-27T10:20:15.505415",
     "status": "completed"
    },
    "tags": []
   },
   "source": [
    "We can clearly infer that embarkation point 'S' is the most frequent one, so we can impute the missing values with most frequesnt embarkation point "
   ]
  },
  {
   "cell_type": "code",
   "execution_count": 24,
   "metadata": {
    "execution": {
     "iopub.execute_input": "2020-12-27T10:20:15.786350Z",
     "iopub.status.busy": "2020-12-27T10:20:15.779764Z",
     "iopub.status.idle": "2020-12-27T10:20:15.791005Z",
     "shell.execute_reply": "2020-12-27T10:20:15.789822Z"
    },
    "papermill": {
     "duration": 0.109095,
     "end_time": "2020-12-27T10:20:15.791135",
     "exception": false,
     "start_time": "2020-12-27T10:20:15.682040",
     "status": "completed"
    },
    "tags": []
   },
   "outputs": [],
   "source": [
    "for dataset in df:\n",
    "  dataset['Embarked'] = dataset['Embarked'].fillna('S')\n",
    "\n",
    "  # Converting Categorical Embarked Feature into Discrete numerical\n",
    "  ordinal_encoder_embarked = OrdinalEncoder()\n",
    "  dataset['Embarked'] = ordinal_encoder_embarked.fit_transform(dataset[['Embarked']]).astype(int)"
   ]
  },
  {
   "cell_type": "markdown",
   "metadata": {
    "papermill": {
     "duration": 0.089789,
     "end_time": "2020-12-27T10:20:15.970627",
     "exception": false,
     "start_time": "2020-12-27T10:20:15.880838",
     "status": "completed"
    },
    "tags": []
   },
   "source": [
    "**We have converted all relevant categorical features into discrete numerical values, now our  dataset is ready as an input for the model pipeline**"
   ]
  },
  {
   "cell_type": "code",
   "execution_count": 25,
   "metadata": {
    "execution": {
     "iopub.execute_input": "2020-12-27T10:20:16.157040Z",
     "iopub.status.busy": "2020-12-27T10:20:16.155992Z",
     "iopub.status.idle": "2020-12-27T10:20:16.162973Z",
     "shell.execute_reply": "2020-12-27T10:20:16.164363Z"
    },
    "papermill": {
     "duration": 0.104859,
     "end_time": "2020-12-27T10:20:16.164640",
     "exception": false,
     "start_time": "2020-12-27T10:20:16.059781",
     "status": "completed"
    },
    "tags": []
   },
   "outputs": [
    {
     "name": "stdout",
     "output_type": "stream",
     "text": [
      "<class 'pandas.core.frame.DataFrame'>\n",
      "RangeIndex: 891 entries, 0 to 890\n",
      "Data columns (total 14 columns):\n",
      " #   Column       Non-Null Count  Dtype \n",
      "---  ------       --------------  ----- \n",
      " 0   PassengerId  891 non-null    int64 \n",
      " 1   Survived     891 non-null    int64 \n",
      " 2   Pclass       891 non-null    int64 \n",
      " 3   Name         891 non-null    object\n",
      " 4   Sex          891 non-null    int64 \n",
      " 5   Age          891 non-null    int64 \n",
      " 6   SibSp        891 non-null    int64 \n",
      " 7   Parch        891 non-null    int64 \n",
      " 8   Ticket       891 non-null    object\n",
      " 9   Fare         891 non-null    int64 \n",
      " 10  Cabin        204 non-null    object\n",
      " 11  Embarked     891 non-null    int64 \n",
      " 12  Family_Size  891 non-null    int64 \n",
      " 13  Alone        891 non-null    int64 \n",
      "dtypes: int64(11), object(3)\n",
      "memory usage: 97.6+ KB\n"
     ]
    }
   ],
   "source": [
    "df_train.info()"
   ]
  },
  {
   "cell_type": "markdown",
   "metadata": {
    "papermill": {
     "duration": 0.079948,
     "end_time": "2020-12-27T10:20:16.326480",
     "exception": false,
     "start_time": "2020-12-27T10:20:16.246532",
     "status": "completed"
    },
    "tags": []
   },
   "source": [
    "# Feature Selection & Data Visualization "
   ]
  },
  {
   "cell_type": "code",
   "execution_count": 26,
   "metadata": {
    "execution": {
     "iopub.execute_input": "2020-12-27T10:20:16.499230Z",
     "iopub.status.busy": "2020-12-27T10:20:16.497761Z",
     "iopub.status.idle": "2020-12-27T10:20:16.500014Z",
     "shell.execute_reply": "2020-12-27T10:20:16.500589Z"
    },
    "papermill": {
     "duration": 0.094122,
     "end_time": "2020-12-27T10:20:16.500741",
     "exception": false,
     "start_time": "2020-12-27T10:20:16.406619",
     "status": "completed"
    },
    "tags": []
   },
   "outputs": [],
   "source": [
    "drop_element = ['PassengerId', 'Name', 'Ticket', 'Cabin', 'SibSp']\n",
    "df_train = df_train.drop(drop_element, axis=1)\n",
    "df_test = df_test.drop(drop_element, axis=1)"
   ]
  },
  {
   "cell_type": "code",
   "execution_count": 27,
   "metadata": {
    "execution": {
     "iopub.execute_input": "2020-12-27T10:20:16.674733Z",
     "iopub.status.busy": "2020-12-27T10:20:16.673614Z",
     "iopub.status.idle": "2020-12-27T10:20:16.677660Z",
     "shell.execute_reply": "2020-12-27T10:20:16.678151Z"
    },
    "papermill": {
     "duration": 0.096225,
     "end_time": "2020-12-27T10:20:16.678289",
     "exception": false,
     "start_time": "2020-12-27T10:20:16.582064",
     "status": "completed"
    },
    "tags": []
   },
   "outputs": [
    {
     "data": {
      "text/html": [
       "<div>\n",
       "<style scoped>\n",
       "    .dataframe tbody tr th:only-of-type {\n",
       "        vertical-align: middle;\n",
       "    }\n",
       "\n",
       "    .dataframe tbody tr th {\n",
       "        vertical-align: top;\n",
       "    }\n",
       "\n",
       "    .dataframe thead th {\n",
       "        text-align: right;\n",
       "    }\n",
       "</style>\n",
       "<table border=\"1\" class=\"dataframe\">\n",
       "  <thead>\n",
       "    <tr style=\"text-align: right;\">\n",
       "      <th></th>\n",
       "      <th>Survived</th>\n",
       "      <th>Pclass</th>\n",
       "      <th>Sex</th>\n",
       "      <th>Age</th>\n",
       "      <th>Parch</th>\n",
       "      <th>Fare</th>\n",
       "      <th>Embarked</th>\n",
       "      <th>Family_Size</th>\n",
       "      <th>Alone</th>\n",
       "    </tr>\n",
       "  </thead>\n",
       "  <tbody>\n",
       "    <tr>\n",
       "      <th>0</th>\n",
       "      <td>0</td>\n",
       "      <td>3</td>\n",
       "      <td>1</td>\n",
       "      <td>1</td>\n",
       "      <td>0</td>\n",
       "      <td>0</td>\n",
       "      <td>2</td>\n",
       "      <td>2</td>\n",
       "      <td>0</td>\n",
       "    </tr>\n",
       "    <tr>\n",
       "      <th>1</th>\n",
       "      <td>1</td>\n",
       "      <td>1</td>\n",
       "      <td>0</td>\n",
       "      <td>2</td>\n",
       "      <td>0</td>\n",
       "      <td>3</td>\n",
       "      <td>0</td>\n",
       "      <td>2</td>\n",
       "      <td>0</td>\n",
       "    </tr>\n",
       "  </tbody>\n",
       "</table>\n",
       "</div>"
      ],
      "text/plain": [
       "   Survived  Pclass  Sex  Age  Parch  Fare  Embarked  Family_Size  Alone\n",
       "0         0       3    1    1      0     0         2            2      0\n",
       "1         1       1    0    2      0     3         0            2      0"
      ]
     },
     "execution_count": 27,
     "metadata": {},
     "output_type": "execute_result"
    }
   ],
   "source": [
    "df_train.head(2)"
   ]
  },
  {
   "cell_type": "code",
   "execution_count": 28,
   "metadata": {
    "execution": {
     "iopub.execute_input": "2020-12-27T10:20:16.847672Z",
     "iopub.status.busy": "2020-12-27T10:20:16.846517Z",
     "iopub.status.idle": "2020-12-27T10:20:16.857346Z",
     "shell.execute_reply": "2020-12-27T10:20:16.857921Z"
    },
    "papermill": {
     "duration": 0.098929,
     "end_time": "2020-12-27T10:20:16.858098",
     "exception": false,
     "start_time": "2020-12-27T10:20:16.759169",
     "status": "completed"
    },
    "tags": []
   },
   "outputs": [
    {
     "data": {
      "text/html": [
       "<div>\n",
       "<style scoped>\n",
       "    .dataframe tbody tr th:only-of-type {\n",
       "        vertical-align: middle;\n",
       "    }\n",
       "\n",
       "    .dataframe tbody tr th {\n",
       "        vertical-align: top;\n",
       "    }\n",
       "\n",
       "    .dataframe thead th {\n",
       "        text-align: right;\n",
       "    }\n",
       "</style>\n",
       "<table border=\"1\" class=\"dataframe\">\n",
       "  <thead>\n",
       "    <tr style=\"text-align: right;\">\n",
       "      <th></th>\n",
       "      <th>Pclass</th>\n",
       "      <th>Sex</th>\n",
       "      <th>Age</th>\n",
       "      <th>Parch</th>\n",
       "      <th>Fare</th>\n",
       "      <th>Embarked</th>\n",
       "      <th>Family_Size</th>\n",
       "      <th>Alone</th>\n",
       "    </tr>\n",
       "  </thead>\n",
       "  <tbody>\n",
       "    <tr>\n",
       "      <th>0</th>\n",
       "      <td>3</td>\n",
       "      <td>1</td>\n",
       "      <td>2</td>\n",
       "      <td>0</td>\n",
       "      <td>0</td>\n",
       "      <td>1</td>\n",
       "      <td>1</td>\n",
       "      <td>1</td>\n",
       "    </tr>\n",
       "    <tr>\n",
       "      <th>1</th>\n",
       "      <td>3</td>\n",
       "      <td>0</td>\n",
       "      <td>3</td>\n",
       "      <td>0</td>\n",
       "      <td>0</td>\n",
       "      <td>2</td>\n",
       "      <td>2</td>\n",
       "      <td>0</td>\n",
       "    </tr>\n",
       "  </tbody>\n",
       "</table>\n",
       "</div>"
      ],
      "text/plain": [
       "   Pclass  Sex  Age  Parch  Fare  Embarked  Family_Size  Alone\n",
       "0       3    1    2      0     0         1            1      1\n",
       "1       3    0    3      0     0         2            2      0"
      ]
     },
     "execution_count": 28,
     "metadata": {},
     "output_type": "execute_result"
    }
   ],
   "source": [
    "df_test.head(2)"
   ]
  },
  {
   "cell_type": "code",
   "execution_count": 29,
   "metadata": {
    "execution": {
     "iopub.execute_input": "2020-12-27T10:20:17.057068Z",
     "iopub.status.busy": "2020-12-27T10:20:17.055839Z",
     "iopub.status.idle": "2020-12-27T10:20:17.680493Z",
     "shell.execute_reply": "2020-12-27T10:20:17.681080Z"
    },
    "papermill": {
     "duration": 0.730984,
     "end_time": "2020-12-27T10:20:17.681227",
     "exception": false,
     "start_time": "2020-12-27T10:20:16.950243",
     "status": "completed"
    },
    "tags": []
   },
   "outputs": [
    {
     "data": {
      "text/plain": [
       "<matplotlib.axes._subplots.AxesSubplot at 0x7f38461ced50>"
      ]
     },
     "execution_count": 29,
     "metadata": {},
     "output_type": "execute_result"
    },
    {
     "data": {
      "image/png": "[encoded data removed]",
      "text/plain": [
       "<Figure size 1008x864 with 2 Axes>"
      ]
     },
     "metadata": {
      "needs_background": "light"
     },
     "output_type": "display_data"
    }
   ],
   "source": [
    "# Correlation Rectangular Matrix\n",
    "plt.figure(figsize=(14,12))\n",
    "plt.title(\"Correlation matrix of training dataset\", size=20)\n",
    "sns.heatmap(df_train.corr(), annot=True, fmt='.1g', vmin=-1, vmax=1, center= 0, cmap='coolwarm', linewidth=0.5, linecolor='white', square=True)"
   ]
  },
  {
   "cell_type": "markdown",
   "metadata": {
    "papermill": {
     "duration": 0.086214,
     "end_time": "2020-12-27T10:20:17.852288",
     "exception": false,
     "start_time": "2020-12-27T10:20:17.766074",
     "status": "completed"
    },
    "tags": []
   },
   "source": [
    "The important conclusion from the correlation matrix is that none of the features are related to each other, i.e there is none redundant feature in the train dataset."
   ]
  },
  {
   "cell_type": "code",
   "execution_count": 30,
   "metadata": {
    "execution": {
     "iopub.execute_input": "2020-12-27T10:20:18.038825Z",
     "iopub.status.busy": "2020-12-27T10:20:18.032463Z",
     "iopub.status.idle": "2020-12-27T10:20:19.583650Z",
     "shell.execute_reply": "2020-12-27T10:20:19.584275Z"
    },
    "papermill": {
     "duration": 1.647217,
     "end_time": "2020-12-27T10:20:19.584434",
     "exception": false,
     "start_time": "2020-12-27T10:20:17.937217",
     "status": "completed"
    },
    "tags": []
   },
   "outputs": [
    {
     "data": {
      "image/png": "[encoded data removed]",
      "text/plain": [
       "<Figure size 864x432 with 8 Axes>"
      ]
     },
     "metadata": {
      "needs_background": "light"
     },
     "output_type": "display_data"
    }
   ],
   "source": [
    "# Visualizing Numerical data\n",
    "numeric_data = ['Survived', 'Pclass', 'Sex', 'Age', 'Parch', 'Fare', 'Embarked', 'Family_Size']\n",
    "n_cols =4\n",
    "n_rows =2\n",
    "fig, ax = plt.subplots(n_rows, n_cols, figsize= (n_cols*3, n_rows*3))\n",
    "for r in range(n_rows):\n",
    "  for c in range(n_cols):\n",
    "    i = r*n_cols + c\n",
    "    axs = ax[r][c]\n",
    "    sns.countplot(df_train[numeric_data[i]], hue=df_train['Survived'], ax=axs, color='#6E6B95', edgecolor='black')\n",
    "    axs.set_title(numeric_data[i])\n",
    "    axs.legend(title = 'Survived', loc ='best')\n",
    "plt.tight_layout()"
   ]
  },
  {
   "cell_type": "code",
   "execution_count": 31,
   "metadata": {
    "execution": {
     "iopub.execute_input": "2020-12-27T10:20:19.782170Z",
     "iopub.status.busy": "2020-12-27T10:20:19.780814Z",
     "iopub.status.idle": "2020-12-27T10:20:19.784640Z",
     "shell.execute_reply": "2020-12-27T10:20:19.785206Z"
    },
    "papermill": {
     "duration": 0.10585,
     "end_time": "2020-12-27T10:20:19.785358",
     "exception": false,
     "start_time": "2020-12-27T10:20:19.679508",
     "status": "completed"
    },
    "tags": []
   },
   "outputs": [
    {
     "data": {
      "text/plain": [
       "(712, 8)"
      ]
     },
     "execution_count": 31,
     "metadata": {},
     "output_type": "execute_result"
    }
   ],
   "source": [
    "y = df_train[['Survived']]\n",
    "X = df_train.drop('Survived', axis=1)\n",
    "\n",
    "#Spliting Dataset into X_train and X_validation \n",
    "X_train, X_val, y_train, y_val = train_test_split(X,y, random_state=SEED, train_size=0.8)\n",
    "X_train.shape"
   ]
  },
  {
   "cell_type": "code",
   "execution_count": 32,
   "metadata": {
    "execution": {
     "iopub.execute_input": "2020-12-27T10:20:20.003387Z",
     "iopub.status.busy": "2020-12-27T10:20:19.980145Z",
     "iopub.status.idle": "2020-12-27T10:20:20.010772Z",
     "shell.execute_reply": "2020-12-27T10:20:20.014200Z"
    },
    "papermill": {
     "duration": 0.141766,
     "end_time": "2020-12-27T10:20:20.014434",
     "exception": false,
     "start_time": "2020-12-27T10:20:19.872668",
     "status": "completed"
    },
    "tags": []
   },
   "outputs": [],
   "source": [
    "# Defining Grid Search CV function \n",
    "\n",
    "kfold = KFold(n_splits=5, shuffle=True, random_state=SEED)\n",
    "\n",
    "def grid_search(X, y, estimator, params, random_state=SEED, score='accuracy', n_jobs=-1,\n",
    "                cv=kfold):\n",
    "  \"\"\"\n",
    "  Grid search to figure out best parameters using 'cv' fold cross validation\n",
    "  and utilising all available cores.\n",
    "  \"\"\"\n",
    "  print(\"Hyper paramter tuning for {} by grid search\".format(score))\n",
    "\n",
    "  clf = GridSearchCV(estimator=estimator, param_grid=params, n_jobs=n_jobs, cv=kfold, scoring=score)\n",
    "  clf.fit(X,y)\n",
    "\n",
    "  print('Best parameters by grid search: \\n', clf.best_params_)\n",
    "  return clf"
   ]
  },
  {
   "cell_type": "code",
   "execution_count": 33,
   "metadata": {
    "execution": {
     "iopub.execute_input": "2020-12-27T10:20:20.292630Z",
     "iopub.status.busy": "2020-12-27T10:20:20.291635Z",
     "iopub.status.idle": "2020-12-27T10:20:20.302779Z",
     "shell.execute_reply": "2020-12-27T10:20:20.303714Z"
    },
    "papermill": {
     "duration": 0.154699,
     "end_time": "2020-12-27T10:20:20.303906",
     "exception": false,
     "start_time": "2020-12-27T10:20:20.149207",
     "status": "completed"
    },
    "tags": []
   },
   "outputs": [],
   "source": [
    "def plot_learning_curve(estimator, X, y, cv=kfold, train_sizes=np.linspace(0.1, 1.0, 5)):\n",
    "  \"\"\"\n",
    "  Plot test and traning curves\n",
    "\n",
    "  \"\"\"\n",
    " \n",
    " \n",
    "  plt.title('Learning Curve')\n",
    "  plt.xlabel(\"Training Examples\")\n",
    "  plt.ylabel(\"Score\")\n",
    "\n",
    "  train_sizes, train_scores, test_scores, _, _ = learning_curve(estimator, X,y, cv=cv, n_jobs=-1, train_sizes=train_sizes, return_times=True)\n",
    "  # train score mean and std\n",
    "  train_scores_mean = np.mean(train_scores, axis=1)\n",
    "  train_scores_std = np.std(train_scores, axis=1)\n",
    "\n",
    "  # test score mean and std\n",
    "  test_scores_mean = np.mean(test_scores, axis=1)\n",
    "  test_scores_std = np.std(test_scores, axis=1)\n",
    "\n",
    "  #Plotting Learning Curves\n",
    "  plt.grid()\n",
    "\n",
    "  plt.fill_between(train_sizes, train_scores_mean-train_scores_std, train_scores_mean+train_scores_std, alpha=0.1, color='r')\n",
    "  plt.fill_between(train_sizes, test_scores_mean-test_scores_std, test_scores_mean+ test_scores_std, alpha=0.1, color='g')\n",
    "  plt.plot(train_sizes, train_scores_mean, 'o-', color='r', label='Training_Score')\n",
    "  plt.plot(train_sizes, test_scores_mean, 'o-', color='g', label='Cross_Validation_Score')\n",
    "  plt.legend(loc='best')\n",
    "\n",
    "  return plt"
   ]
  },
  {
   "cell_type": "markdown",
   "metadata": {
    "papermill": {
     "duration": 0.128093,
     "end_time": "2020-12-27T10:20:20.556993",
     "exception": false,
     "start_time": "2020-12-27T10:20:20.428900",
     "status": "completed"
    },
    "tags": []
   },
   "source": [
    "# 1. Random Forest"
   ]
  },
  {
   "cell_type": "code",
   "execution_count": 34,
   "metadata": {
    "execution": {
     "iopub.execute_input": "2020-12-27T10:20:20.827900Z",
     "iopub.status.busy": "2020-12-27T10:20:20.826895Z",
     "iopub.status.idle": "2020-12-27T10:20:20.834131Z",
     "shell.execute_reply": "2020-12-27T10:20:20.834730Z"
    },
    "papermill": {
     "duration": 0.134849,
     "end_time": "2020-12-27T10:20:20.834905",
     "exception": false,
     "start_time": "2020-12-27T10:20:20.700056",
     "status": "completed"
    },
    "tags": []
   },
   "outputs": [
    {
     "data": {
      "text/plain": [
       "{'bootstrap': True,\n",
       " 'ccp_alpha': 0.0,\n",
       " 'class_weight': None,\n",
       " 'criterion': 'gini',\n",
       " 'max_depth': None,\n",
       " 'max_features': 'auto',\n",
       " 'max_leaf_nodes': None,\n",
       " 'max_samples': None,\n",
       " 'min_impurity_decrease': 0.0,\n",
       " 'min_impurity_split': None,\n",
       " 'min_samples_leaf': 1,\n",
       " 'min_samples_split': 2,\n",
       " 'min_weight_fraction_leaf': 0.0,\n",
       " 'n_estimators': 100,\n",
       " 'n_jobs': None,\n",
       " 'oob_score': False,\n",
       " 'random_state': 42,\n",
       " 'verbose': 0,\n",
       " 'warm_start': False}"
      ]
     },
     "execution_count": 34,
     "metadata": {},
     "output_type": "execute_result"
    }
   ],
   "source": [
    "# Instantiate Random Forest classifier \n",
    "random_forest_clf = RandomForestClassifier(random_state=SEED)\n",
    "random_forest_clf.get_params()\n"
   ]
  },
  {
   "cell_type": "code",
   "execution_count": 35,
   "metadata": {
    "execution": {
     "iopub.execute_input": "2020-12-27T10:20:21.095927Z",
     "iopub.status.busy": "2020-12-27T10:20:21.095052Z",
     "iopub.status.idle": "2020-12-27T10:20:21.099102Z",
     "shell.execute_reply": "2020-12-27T10:20:21.099772Z"
    },
    "papermill": {
     "duration": 0.128842,
     "end_time": "2020-12-27T10:20:21.099963",
     "exception": false,
     "start_time": "2020-12-27T10:20:20.971121",
     "status": "completed"
    },
    "tags": []
   },
   "outputs": [],
   "source": [
    "# parameter grid\n",
    "params= {\n",
    "    'bootstrap': [True, False],\n",
    "    'max_depth': [int(x) for x in range(10,110,50)],\n",
    "    'max_features': ['auto', 'sqrt'],\n",
    "    'min_samples_split': [2,4,6]\n",
    "}"
   ]
  },
  {
   "cell_type": "code",
   "execution_count": 36,
   "metadata": {
    "execution": {
     "iopub.execute_input": "2020-12-27T10:20:21.348290Z",
     "iopub.status.busy": "2020-12-27T10:20:21.347398Z",
     "iopub.status.idle": "2020-12-27T10:20:45.728819Z",
     "shell.execute_reply": "2020-12-27T10:20:45.729548Z"
    },
    "papermill": {
     "duration": 24.50655,
     "end_time": "2020-12-27T10:20:45.729715",
     "exception": false,
     "start_time": "2020-12-27T10:20:21.223165",
     "status": "completed"
    },
    "tags": []
   },
   "outputs": [
    {
     "name": "stdout",
     "output_type": "stream",
     "text": [
      "Hyper paramter tuning for accuracy by grid search\n"
     ]
    },
    {
     "name": "stderr",
     "output_type": "stream",
     "text": [
      "/opt/conda/lib/python3.7/site-packages/sklearn/model_selection/_search.py:765: DataConversionWarning: A column-vector y was passed when a 1d array was expected. Please change the shape of y to (n_samples,), for example using ravel().\n",
      "  self.best_estimator_.fit(X, y, **fit_params)\n"
     ]
    },
    {
     "name": "stdout",
     "output_type": "stream",
     "text": [
      "Best parameters by grid search: \n",
      " {'bootstrap': True, 'max_depth': 60, 'max_features': 'auto', 'min_samples_split': 6}\n"
     ]
    }
   ],
   "source": [
    "random_forest_clf_hypertuned = grid_search(X_train, y_train, estimator=random_forest_clf, params= params)\n"
   ]
  },
  {
   "cell_type": "code",
   "execution_count": 37,
   "metadata": {
    "execution": {
     "iopub.execute_input": "2020-12-27T10:20:45.914683Z",
     "iopub.status.busy": "2020-12-27T10:20:45.913540Z",
     "iopub.status.idle": "2020-12-27T10:30:04.876042Z",
     "shell.execute_reply": "2020-12-27T10:30:04.876859Z"
    },
    "papermill": {
     "duration": 559.059353,
     "end_time": "2020-12-27T10:30:04.877067",
     "exception": false,
     "start_time": "2020-12-27T10:20:45.817714",
     "status": "completed"
    },
    "tags": []
   },
   "outputs": [
    {
     "data": {
      "image/png": "[encoded data removed]",
      "text/plain": [
       "<Figure size 432x288 with 1 Axes>"
      ]
     },
     "metadata": {
      "needs_background": "light"
     },
     "output_type": "display_data"
    }
   ],
   "source": [
    "# Plotting learning curve for Random Forest Estimator\n",
    "plot_learning_curve(random_forest_clf_hypertuned, X, y, cv=kfold, train_sizes=np.linspace(0.1, 1.0, 5))\n",
    "plt.show()"
   ]
  },
  {
   "cell_type": "code",
   "execution_count": 38,
   "metadata": {
    "execution": {
     "iopub.execute_input": "2020-12-27T10:30:05.099638Z",
     "iopub.status.busy": "2020-12-27T10:30:05.098615Z",
     "iopub.status.idle": "2020-12-27T10:30:05.116720Z",
     "shell.execute_reply": "2020-12-27T10:30:05.117496Z"
    },
    "papermill": {
     "duration": 0.134638,
     "end_time": "2020-12-27T10:30:05.117683",
     "exception": false,
     "start_time": "2020-12-27T10:30:04.983045",
     "status": "completed"
    },
    "tags": []
   },
   "outputs": [
    {
     "name": "stdout",
     "output_type": "stream",
     "text": [
      "The accuracy score for Random Forest Classifier is 0.8212\n"
     ]
    }
   ],
   "source": [
    "# prediction using Random Forest estimator on validation dataset\n",
    "\n",
    "y_predict = random_forest_clf_hypertuned.predict(X_val)\n",
    "\n",
    "accuracy_rf = accuracy_score(y_val, y_predict)\n",
    "print(\"The accuracy score for Random Forest Classifier is {:.4f}\".format(accuracy_rf))"
   ]
  },
  {
   "cell_type": "markdown",
   "metadata": {
    "papermill": {
     "duration": 0.093061,
     "end_time": "2020-12-27T10:30:05.306663",
     "exception": false,
     "start_time": "2020-12-27T10:30:05.213602",
     "status": "completed"
    },
    "tags": []
   },
   "source": [
    "# 2. Decision Tree"
   ]
  },
  {
   "cell_type": "code",
   "execution_count": 39,
   "metadata": {
    "execution": {
     "iopub.execute_input": "2020-12-27T10:30:05.496053Z",
     "iopub.status.busy": "2020-12-27T10:30:05.495195Z",
     "iopub.status.idle": "2020-12-27T10:30:05.498580Z",
     "shell.execute_reply": "2020-12-27T10:30:05.499288Z"
    },
    "papermill": {
     "duration": 0.102391,
     "end_time": "2020-12-27T10:30:05.499427",
     "exception": false,
     "start_time": "2020-12-27T10:30:05.397036",
     "status": "completed"
    },
    "tags": []
   },
   "outputs": [
    {
     "data": {
      "text/plain": [
       "{'ccp_alpha': 0.0,\n",
       " 'class_weight': None,\n",
       " 'criterion': 'gini',\n",
       " 'max_depth': None,\n",
       " 'max_features': None,\n",
       " 'max_leaf_nodes': None,\n",
       " 'min_impurity_decrease': 0.0,\n",
       " 'min_impurity_split': None,\n",
       " 'min_samples_leaf': 1,\n",
       " 'min_samples_split': 2,\n",
       " 'min_weight_fraction_leaf': 0.0,\n",
       " 'presort': 'deprecated',\n",
       " 'random_state': 42,\n",
       " 'splitter': 'best'}"
      ]
     },
     "execution_count": 39,
     "metadata": {},
     "output_type": "execute_result"
    }
   ],
   "source": [
    "from sklearn.tree import DecisionTreeClassifier\n",
    "decision_tree_clf = DecisionTreeClassifier(random_state=SEED)\n",
    "\n",
    "decision_tree_clf.get_params()"
   ]
  },
  {
   "cell_type": "code",
   "execution_count": 40,
   "metadata": {
    "execution": {
     "iopub.execute_input": "2020-12-27T10:30:05.687838Z",
     "iopub.status.busy": "2020-12-27T10:30:05.686821Z",
     "iopub.status.idle": "2020-12-27T10:30:05.690109Z",
     "shell.execute_reply": "2020-12-27T10:30:05.689548Z"
    },
    "papermill": {
     "duration": 0.100572,
     "end_time": "2020-12-27T10:30:05.690229",
     "exception": false,
     "start_time": "2020-12-27T10:30:05.589657",
     "status": "completed"
    },
    "tags": []
   },
   "outputs": [],
   "source": [
    "# Hyper tuning for Decision Tree classifier\n",
    "params = {\n",
    "    'criterion': ['gini', 'entropy'],\n",
    "    'max_depth': list(range(1,16)),\n",
    "    'min_samples_leaf': list(range(1,10))\n",
    "}"
   ]
  },
  {
   "cell_type": "code",
   "execution_count": 41,
   "metadata": {
    "execution": {
     "iopub.execute_input": "2020-12-27T10:30:05.882353Z",
     "iopub.status.busy": "2020-12-27T10:30:05.881317Z",
     "iopub.status.idle": "2020-12-27T10:30:15.936323Z",
     "shell.execute_reply": "2020-12-27T10:30:15.935494Z"
    },
    "papermill": {
     "duration": 10.154569,
     "end_time": "2020-12-27T10:30:15.936488",
     "exception": false,
     "start_time": "2020-12-27T10:30:05.781919",
     "status": "completed"
    },
    "tags": []
   },
   "outputs": [
    {
     "name": "stdout",
     "output_type": "stream",
     "text": [
      "Hyper paramter tuning for accuracy by grid search\n",
      "Best parameters by grid search: \n",
      " {'criterion': 'gini', 'max_depth': 6, 'min_samples_leaf': 9}\n"
     ]
    }
   ],
   "source": [
    "decision_tree_hypertuned = grid_search(X_train, y_train, decision_tree_clf, params, random_state=SEED, score='accuracy', n_jobs=-1,\n",
    "                cv=kfold)"
   ]
  },
  {
   "cell_type": "code",
   "execution_count": 42,
   "metadata": {
    "execution": {
     "iopub.execute_input": "2020-12-27T10:30:16.140547Z",
     "iopub.status.busy": "2020-12-27T10:30:16.137307Z",
     "iopub.status.idle": "2020-12-27T10:34:04.943038Z",
     "shell.execute_reply": "2020-12-27T10:34:04.943672Z"
    },
    "papermill": {
     "duration": 228.91313,
     "end_time": "2020-12-27T10:34:04.943844",
     "exception": false,
     "start_time": "2020-12-27T10:30:16.030714",
     "status": "completed"
    },
    "tags": []
   },
   "outputs": [
    {
     "data": {
      "image/png": "[encoded data removed]",
      "text/plain": [
       "<Figure size 432x288 with 1 Axes>"
      ]
     },
     "metadata": {
      "needs_background": "light"
     },
     "output_type": "display_data"
    }
   ],
   "source": [
    "plot_learning_curve(decision_tree_hypertuned, X, y, cv=kfold, train_sizes=np.linspace(0.1, 1.0, 5))\n",
    "plt.show()"
   ]
  },
  {
   "cell_type": "code",
   "execution_count": 43,
   "metadata": {
    "execution": {
     "iopub.execute_input": "2020-12-27T10:34:05.161528Z",
     "iopub.status.busy": "2020-12-27T10:34:05.160333Z",
     "iopub.status.idle": "2020-12-27T10:34:05.166228Z",
     "shell.execute_reply": "2020-12-27T10:34:05.166721Z"
    },
    "papermill": {
     "duration": 0.110091,
     "end_time": "2020-12-27T10:34:05.166870",
     "exception": false,
     "start_time": "2020-12-27T10:34:05.056779",
     "status": "completed"
    },
    "tags": []
   },
   "outputs": [
    {
     "name": "stdout",
     "output_type": "stream",
     "text": [
      "The accuracy score for SVM is 0.7933\n"
     ]
    }
   ],
   "source": [
    "# prediction using SVM estimator on validation dataset\n",
    "\n",
    "y_predict = decision_tree_hypertuned.predict(X_val)\n",
    "accuracy_decision_tree = accuracy_score(y_val, y_predict)\n",
    "print(\"The accuracy score for SVM is {:.4f}\".format(accuracy_decision_tree))"
   ]
  },
  {
   "cell_type": "markdown",
   "metadata": {
    "papermill": {
     "duration": 0.094283,
     "end_time": "2020-12-27T10:34:05.361103",
     "exception": false,
     "start_time": "2020-12-27T10:34:05.266820",
     "status": "completed"
    },
    "tags": []
   },
   "source": [
    "# 3. K NearestNeighbor"
   ]
  },
  {
   "cell_type": "code",
   "execution_count": 44,
   "metadata": {
    "execution": {
     "iopub.execute_input": "2020-12-27T10:34:05.558754Z",
     "iopub.status.busy": "2020-12-27T10:34:05.557824Z",
     "iopub.status.idle": "2020-12-27T10:34:05.561340Z",
     "shell.execute_reply": "2020-12-27T10:34:05.562060Z"
    },
    "papermill": {
     "duration": 0.105821,
     "end_time": "2020-12-27T10:34:05.562205",
     "exception": false,
     "start_time": "2020-12-27T10:34:05.456384",
     "status": "completed"
    },
    "tags": []
   },
   "outputs": [
    {
     "data": {
      "text/plain": [
       "{'algorithm': 'auto',\n",
       " 'leaf_size': 30,\n",
       " 'metric': 'minkowski',\n",
       " 'metric_params': None,\n",
       " 'n_jobs': None,\n",
       " 'n_neighbors': 5,\n",
       " 'p': 2,\n",
       " 'weights': 'uniform'}"
      ]
     },
     "execution_count": 44,
     "metadata": {},
     "output_type": "execute_result"
    }
   ],
   "source": [
    "K_neigh_clf = KNeighborsClassifier()\n",
    "\n",
    "K_neigh_clf.get_params()"
   ]
  },
  {
   "cell_type": "code",
   "execution_count": 45,
   "metadata": {
    "execution": {
     "iopub.execute_input": "2020-12-27T10:34:05.801279Z",
     "iopub.status.busy": "2020-12-27T10:34:05.800196Z",
     "iopub.status.idle": "2020-12-27T10:34:05.817019Z",
     "shell.execute_reply": "2020-12-27T10:34:05.818118Z"
    },
    "papermill": {
     "duration": 0.160582,
     "end_time": "2020-12-27T10:34:05.818360",
     "exception": false,
     "start_time": "2020-12-27T10:34:05.657778",
     "status": "completed"
    },
    "tags": []
   },
   "outputs": [],
   "source": [
    "# Hyper parameter tuning\n",
    "\n",
    "params = {\n",
    "    'leaf_size': list(range(1,20)),\n",
    "    'n_neighbors': list(range(1,10)),\n",
    "    'p': [1,2]\n",
    "}"
   ]
  },
  {
   "cell_type": "code",
   "execution_count": 46,
   "metadata": {
    "execution": {
     "iopub.execute_input": "2020-12-27T10:34:06.144270Z",
     "iopub.status.busy": "2020-12-27T10:34:06.143133Z",
     "iopub.status.idle": "2020-12-27T10:34:31.107147Z",
     "shell.execute_reply": "2020-12-27T10:34:31.105221Z"
    },
    "papermill": {
     "duration": 25.115034,
     "end_time": "2020-12-27T10:34:31.107290",
     "exception": false,
     "start_time": "2020-12-27T10:34:05.992256",
     "status": "completed"
    },
    "tags": []
   },
   "outputs": [
    {
     "name": "stdout",
     "output_type": "stream",
     "text": [
      "Hyper paramter tuning for accuracy by grid search\n",
      "Best parameters by grid search: \n",
      " {'leaf_size': 18, 'n_neighbors': 7, 'p': 1}\n"
     ]
    },
    {
     "name": "stderr",
     "output_type": "stream",
     "text": [
      "/opt/conda/lib/python3.7/site-packages/sklearn/model_selection/_search.py:765: DataConversionWarning: A column-vector y was passed when a 1d array was expected. Please change the shape of y to (n_samples, ), for example using ravel().\n",
      "  self.best_estimator_.fit(X, y, **fit_params)\n"
     ]
    }
   ],
   "source": [
    "k_neigh_hypertuned = grid_search(X_train, y_train, K_neigh_clf, params, random_state=SEED, score='accuracy', n_jobs=-1,\n",
    "                cv=kfold)"
   ]
  },
  {
   "cell_type": "code",
   "execution_count": 47,
   "metadata": {
    "execution": {
     "iopub.execute_input": "2020-12-27T10:34:31.316095Z",
     "iopub.status.busy": "2020-12-27T10:34:31.314957Z",
     "iopub.status.idle": "2020-12-27T10:42:39.415744Z",
     "shell.execute_reply": "2020-12-27T10:42:39.416350Z"
    },
    "papermill": {
     "duration": 488.208531,
     "end_time": "2020-12-27T10:42:39.416511",
     "exception": false,
     "start_time": "2020-12-27T10:34:31.207980",
     "status": "completed"
    },
    "tags": []
   },
   "outputs": [
    {
     "data": {
      "image/png": "[encoded data removed]",
      "text/plain": [
       "<Figure size 432x288 with 1 Axes>"
      ]
     },
     "metadata": {
      "needs_background": "light"
     },
     "output_type": "display_data"
    }
   ],
   "source": [
    "plot_learning_curve(k_neigh_hypertuned, X, y, cv=kfold, train_sizes=np.linspace(0.1, 1.0, 5))\n",
    "plt.show()"
   ]
  },
  {
   "cell_type": "code",
   "execution_count": 48,
   "metadata": {
    "execution": {
     "iopub.execute_input": "2020-12-27T10:42:39.624638Z",
     "iopub.status.busy": "2020-12-27T10:42:39.623717Z",
     "iopub.status.idle": "2020-12-27T10:42:39.639530Z",
     "shell.execute_reply": "2020-12-27T10:42:39.638788Z"
    },
    "papermill": {
     "duration": 0.123671,
     "end_time": "2020-12-27T10:42:39.639646",
     "exception": false,
     "start_time": "2020-12-27T10:42:39.515975",
     "status": "completed"
    },
    "tags": []
   },
   "outputs": [
    {
     "name": "stdout",
     "output_type": "stream",
     "text": [
      "The accuracy score for KNN is 0.7933\n"
     ]
    }
   ],
   "source": [
    "# prediction using KNeighbors estimator on validation dataset\n",
    "\n",
    "y_predict = k_neigh_hypertuned.predict(X_val)\n",
    "accuracy_k_neighbors= accuracy_score(y_val, y_predict)\n",
    "print(\"The accuracy score for KNN is {:.4f}\".format(accuracy_k_neighbors))"
   ]
  },
  {
   "cell_type": "markdown",
   "metadata": {
    "papermill": {
     "duration": 0.099182,
     "end_time": "2020-12-27T10:42:39.838754",
     "exception": false,
     "start_time": "2020-12-27T10:42:39.739572",
     "status": "completed"
    },
    "tags": []
   },
   "source": [
    "# 4. Naive Bayes "
   ]
  },
  {
   "cell_type": "code",
   "execution_count": 49,
   "metadata": {
    "execution": {
     "iopub.execute_input": "2020-12-27T10:42:40.044717Z",
     "iopub.status.busy": "2020-12-27T10:42:40.043752Z",
     "iopub.status.idle": "2020-12-27T10:42:40.047454Z",
     "shell.execute_reply": "2020-12-27T10:42:40.048150Z"
    },
    "papermill": {
     "duration": 0.109983,
     "end_time": "2020-12-27T10:42:40.048303",
     "exception": false,
     "start_time": "2020-12-27T10:42:39.938320",
     "status": "completed"
    },
    "tags": []
   },
   "outputs": [
    {
     "data": {
      "text/plain": [
       "{'priors': None, 'var_smoothing': 1e-09}"
      ]
     },
     "execution_count": 49,
     "metadata": {},
     "output_type": "execute_result"
    }
   ],
   "source": [
    "naive_bayes_clf = GaussianNB()\n",
    "\n",
    "naive_bayes_clf.get_params()"
   ]
  },
  {
   "cell_type": "code",
   "execution_count": 50,
   "metadata": {
    "execution": {
     "iopub.execute_input": "2020-12-27T10:42:40.255405Z",
     "iopub.status.busy": "2020-12-27T10:42:40.254352Z",
     "iopub.status.idle": "2020-12-27T10:42:40.257020Z",
     "shell.execute_reply": "2020-12-27T10:42:40.257606Z"
    },
    "papermill": {
     "duration": 0.108312,
     "end_time": "2020-12-27T10:42:40.257748",
     "exception": false,
     "start_time": "2020-12-27T10:42:40.149436",
     "status": "completed"
    },
    "tags": []
   },
   "outputs": [],
   "source": [
    "params = {\n",
    "    'var_smoothing': [np.exp(-i) for i in range(1,10)]\n",
    "}"
   ]
  },
  {
   "cell_type": "code",
   "execution_count": 51,
   "metadata": {
    "execution": {
     "iopub.execute_input": "2020-12-27T10:42:40.465452Z",
     "iopub.status.busy": "2020-12-27T10:42:40.464394Z",
     "iopub.status.idle": "2020-12-27T10:42:40.758974Z",
     "shell.execute_reply": "2020-12-27T10:42:40.758232Z"
    },
    "papermill": {
     "duration": 0.401366,
     "end_time": "2020-12-27T10:42:40.759109",
     "exception": false,
     "start_time": "2020-12-27T10:42:40.357743",
     "status": "completed"
    },
    "tags": []
   },
   "outputs": [
    {
     "name": "stdout",
     "output_type": "stream",
     "text": [
      "Hyper paramter tuning for accuracy by grid search\n",
      "Best parameters by grid search: \n",
      " {'var_smoothing': 0.006737946999085467}\n"
     ]
    },
    {
     "name": "stderr",
     "output_type": "stream",
     "text": [
      "/opt/conda/lib/python3.7/site-packages/sklearn/utils/validation.py:72: DataConversionWarning: A column-vector y was passed when a 1d array was expected. Please change the shape of y to (n_samples, ), for example using ravel().\n",
      "  return f(**kwargs)\n"
     ]
    }
   ],
   "source": [
    "naive_bayes_hypertuned = grid_search(X_train, y_train, naive_bayes_clf, params, random_state=SEED, score='accuracy', n_jobs=-1,\n",
    "                cv=kfold)"
   ]
  },
  {
   "cell_type": "code",
   "execution_count": 52,
   "metadata": {
    "execution": {
     "iopub.execute_input": "2020-12-27T10:42:40.977280Z",
     "iopub.status.busy": "2020-12-27T10:42:40.976093Z",
     "iopub.status.idle": "2020-12-27T10:42:48.482330Z",
     "shell.execute_reply": "2020-12-27T10:42:48.481651Z"
    },
    "papermill": {
     "duration": 7.6213,
     "end_time": "2020-12-27T10:42:48.482460",
     "exception": false,
     "start_time": "2020-12-27T10:42:40.861160",
     "status": "completed"
    },
    "tags": []
   },
   "outputs": [
    {
     "data": {
      "image/png": "[encoded data removed]",
      "text/plain": [
       "<Figure size 432x288 with 1 Axes>"
      ]
     },
     "metadata": {
      "needs_background": "light"
     },
     "output_type": "display_data"
    }
   ],
   "source": [
    "plot_learning_curve(naive_bayes_hypertuned, X, y, cv=kfold, train_sizes=np.linspace(0.1, 1.0, 5))\n",
    "plt.show()"
   ]
  },
  {
   "cell_type": "code",
   "execution_count": 53,
   "metadata": {
    "execution": {
     "iopub.execute_input": "2020-12-27T10:42:48.706339Z",
     "iopub.status.busy": "2020-12-27T10:42:48.705319Z",
     "iopub.status.idle": "2020-12-27T10:42:48.711004Z",
     "shell.execute_reply": "2020-12-27T10:42:48.710437Z"
    },
    "papermill": {
     "duration": 0.116094,
     "end_time": "2020-12-27T10:42:48.711123",
     "exception": false,
     "start_time": "2020-12-27T10:42:48.595029",
     "status": "completed"
    },
    "tags": []
   },
   "outputs": [
    {
     "name": "stdout",
     "output_type": "stream",
     "text": [
      "The accuracy score for KNN is 0.7765\n"
     ]
    }
   ],
   "source": [
    "# prediction using Naive Bayes estimator on validation dataset\n",
    "\n",
    "y_predict = naive_bayes_hypertuned.predict(X_val)\n",
    "accuracy_naive_bayes= accuracy_score(y_val, y_predict)\n",
    "print(\"The accuracy score for KNN is {:.4f}\".format(accuracy_naive_bayes))"
   ]
  },
  {
   "cell_type": "markdown",
   "metadata": {
    "papermill": {
     "duration": 0.104007,
     "end_time": "2020-12-27T10:42:48.918802",
     "exception": false,
     "start_time": "2020-12-27T10:42:48.814795",
     "status": "completed"
    },
    "tags": []
   },
   "source": [
    "# 5. Support Vector Machine"
   ]
  },
  {
   "cell_type": "code",
   "execution_count": 54,
   "metadata": {
    "execution": {
     "iopub.execute_input": "2020-12-27T10:42:49.135711Z",
     "iopub.status.busy": "2020-12-27T10:42:49.134803Z",
     "iopub.status.idle": "2020-12-27T10:42:49.138389Z",
     "shell.execute_reply": "2020-12-27T10:42:49.139084Z"
    },
    "papermill": {
     "duration": 0.115228,
     "end_time": "2020-12-27T10:42:49.139245",
     "exception": false,
     "start_time": "2020-12-27T10:42:49.024017",
     "status": "completed"
    },
    "tags": []
   },
   "outputs": [
    {
     "data": {
      "text/plain": [
       "{'C': 1.0,\n",
       " 'break_ties': False,\n",
       " 'cache_size': 200,\n",
       " 'class_weight': None,\n",
       " 'coef0': 0.0,\n",
       " 'decision_function_shape': 'ovr',\n",
       " 'degree': 3,\n",
       " 'gamma': 'scale',\n",
       " 'kernel': 'rbf',\n",
       " 'max_iter': -1,\n",
       " 'probability': True,\n",
       " 'random_state': 42,\n",
       " 'shrinking': True,\n",
       " 'tol': 0.001,\n",
       " 'verbose': False}"
      ]
     },
     "execution_count": 54,
     "metadata": {},
     "output_type": "execute_result"
    }
   ],
   "source": [
    "svm_clf = SVC(random_state=SEED, probability=True)\n",
    "svm_clf.get_params()"
   ]
  },
  {
   "cell_type": "code",
   "execution_count": 55,
   "metadata": {
    "execution": {
     "iopub.execute_input": "2020-12-27T10:42:49.352988Z",
     "iopub.status.busy": "2020-12-27T10:42:49.352039Z",
     "iopub.status.idle": "2020-12-27T10:42:49.354689Z",
     "shell.execute_reply": "2020-12-27T10:42:49.355224Z"
    },
    "papermill": {
     "duration": 0.112596,
     "end_time": "2020-12-27T10:42:49.355371",
     "exception": false,
     "start_time": "2020-12-27T10:42:49.242775",
     "status": "completed"
    },
    "tags": []
   },
   "outputs": [],
   "source": [
    "# Hyper parameter tuning for SVM parameters\n",
    "params = {\n",
    "    'C': [0.001, 0.01, 0.1, 1, 10, 100],\n",
    "    'kernel': ['rbf', 'linear'],\n",
    "    'gamma': [0.001, 0.01, 0.1, 1, 10, 100]    \n",
    "}"
   ]
  },
  {
   "cell_type": "code",
   "execution_count": 56,
   "metadata": {
    "execution": {
     "iopub.execute_input": "2020-12-27T10:42:49.569109Z",
     "iopub.status.busy": "2020-12-27T10:42:49.568131Z",
     "iopub.status.idle": "2020-12-27T10:43:40.075418Z",
     "shell.execute_reply": "2020-12-27T10:43:40.074636Z"
    },
    "papermill": {
     "duration": 50.61548,
     "end_time": "2020-12-27T10:43:40.075546",
     "exception": false,
     "start_time": "2020-12-27T10:42:49.460066",
     "status": "completed"
    },
    "tags": []
   },
   "outputs": [
    {
     "name": "stdout",
     "output_type": "stream",
     "text": [
      "Hyper paramter tuning for accuracy by grid search\n",
      "Best parameters by grid search: \n",
      " {'C': 1, 'gamma': 0.1, 'kernel': 'rbf'}\n"
     ]
    },
    {
     "name": "stderr",
     "output_type": "stream",
     "text": [
      "/opt/conda/lib/python3.7/site-packages/sklearn/utils/validation.py:72: DataConversionWarning: A column-vector y was passed when a 1d array was expected. Please change the shape of y to (n_samples, ), for example using ravel().\n",
      "  return f(**kwargs)\n"
     ]
    }
   ],
   "source": [
    "svm_grid_hypertuned = grid_search(X_train, y_train, svm_clf, params, random_state=SEED, score='accuracy', n_jobs=-1,\n",
    "                cv=kfold)"
   ]
  },
  {
   "cell_type": "code",
   "execution_count": 57,
   "metadata": {
    "execution": {
     "iopub.execute_input": "2020-12-27T10:43:40.295098Z",
     "iopub.status.busy": "2020-12-27T10:43:40.293976Z",
     "iopub.status.idle": "2020-12-27T10:51:45.886404Z",
     "shell.execute_reply": "2020-12-27T10:51:45.887082Z"
    },
    "papermill": {
     "duration": 485.705451,
     "end_time": "2020-12-27T10:51:45.887271",
     "exception": false,
     "start_time": "2020-12-27T10:43:40.181820",
     "status": "completed"
    },
    "tags": []
   },
   "outputs": [
    {
     "data": {
      "image/png": "[encoded data removed]",
      "text/plain": [
       "<Figure size 432x288 with 1 Axes>"
      ]
     },
     "metadata": {
      "needs_background": "light"
     },
     "output_type": "display_data"
    }
   ],
   "source": [
    "plot_learning_curve(svm_grid_hypertuned, X, y, cv=kfold, train_sizes=np.linspace(0.1, 1.0, 5))\n",
    "plt.show()"
   ]
  },
  {
   "cell_type": "code",
   "execution_count": 58,
   "metadata": {
    "execution": {
     "iopub.execute_input": "2020-12-27T10:51:46.137980Z",
     "iopub.status.busy": "2020-12-27T10:51:46.136892Z",
     "iopub.status.idle": "2020-12-27T10:51:46.145485Z",
     "shell.execute_reply": "2020-12-27T10:51:46.144739Z"
    },
    "papermill": {
     "duration": 0.137399,
     "end_time": "2020-12-27T10:51:46.145607",
     "exception": false,
     "start_time": "2020-12-27T10:51:46.008208",
     "status": "completed"
    },
    "tags": []
   },
   "outputs": [
    {
     "name": "stdout",
     "output_type": "stream",
     "text": [
      "The accuracy score for SVM is 0.8156\n"
     ]
    }
   ],
   "source": [
    "# prediction using SVM estimator on validation dataset\n",
    "\n",
    "y_predict = svm_grid_hypertuned.predict(X_val)\n",
    "\n",
    "accuracy_svm = accuracy_score(y_val, y_predict)\n",
    "print(\"The accuracy score for SVM is {:.4f}\".format(accuracy_svm))"
   ]
  },
  {
   "cell_type": "markdown",
   "metadata": {
    "papermill": {
     "duration": 0.10728,
     "end_time": "2020-12-27T10:51:46.370592",
     "exception": false,
     "start_time": "2020-12-27T10:51:46.263312",
     "status": "completed"
    },
    "tags": []
   },
   "source": [
    "# **Conclusion**"
   ]
  },
  {
   "cell_type": "code",
   "execution_count": 59,
   "metadata": {
    "execution": {
     "iopub.execute_input": "2020-12-27T10:51:46.601236Z",
     "iopub.status.busy": "2020-12-27T10:51:46.600278Z",
     "iopub.status.idle": "2020-12-27T10:51:46.604005Z",
     "shell.execute_reply": "2020-12-27T10:51:46.604513Z"
    },
    "papermill": {
     "duration": 0.12724,
     "end_time": "2020-12-27T10:51:46.604672",
     "exception": false,
     "start_time": "2020-12-27T10:51:46.477432",
     "status": "completed"
    },
    "tags": []
   },
   "outputs": [
    {
     "data": {
      "text/html": [
       "<div>\n",
       "<style scoped>\n",
       "    .dataframe tbody tr th:only-of-type {\n",
       "        vertical-align: middle;\n",
       "    }\n",
       "\n",
       "    .dataframe tbody tr th {\n",
       "        vertical-align: top;\n",
       "    }\n",
       "\n",
       "    .dataframe thead th {\n",
       "        text-align: right;\n",
       "    }\n",
       "</style>\n",
       "<table border=\"1\" class=\"dataframe\">\n",
       "  <thead>\n",
       "    <tr style=\"text-align: right;\">\n",
       "      <th></th>\n",
       "      <th>Models</th>\n",
       "      <th>Accuracy</th>\n",
       "    </tr>\n",
       "  </thead>\n",
       "  <tbody>\n",
       "    <tr>\n",
       "      <th>4</th>\n",
       "      <td>Random Forest</td>\n",
       "      <td>0.821229</td>\n",
       "    </tr>\n",
       "    <tr>\n",
       "      <th>0</th>\n",
       "      <td>SVM</td>\n",
       "      <td>0.815642</td>\n",
       "    </tr>\n",
       "    <tr>\n",
       "      <th>1</th>\n",
       "      <td>Decision Tree</td>\n",
       "      <td>0.793296</td>\n",
       "    </tr>\n",
       "    <tr>\n",
       "      <th>2</th>\n",
       "      <td>KNN</td>\n",
       "      <td>0.793296</td>\n",
       "    </tr>\n",
       "    <tr>\n",
       "      <th>3</th>\n",
       "      <td>Naive Bayes</td>\n",
       "      <td>0.776536</td>\n",
       "    </tr>\n",
       "  </tbody>\n",
       "</table>\n",
       "</div>"
      ],
      "text/plain": [
       "          Models  Accuracy\n",
       "4  Random Forest  0.821229\n",
       "0            SVM  0.815642\n",
       "1  Decision Tree  0.793296\n",
       "2            KNN  0.793296\n",
       "3    Naive Bayes  0.776536"
      ]
     },
     "execution_count": 59,
     "metadata": {},
     "output_type": "execute_result"
    }
   ],
   "source": [
    "accuracy_dataframe = pd.DataFrame({\n",
    "    'Models': ['SVM', 'Decision Tree', 'KNN', 'Naive Bayes', 'Random Forest'],\n",
    "    'Accuracy': [accuracy_svm, accuracy_decision_tree, accuracy_k_neighbors, accuracy_naive_bayes,accuracy_rf ]\n",
    "})\n",
    "\n",
    "accuracy_df_sorted = accuracy_dataframe.sort_values(by='Accuracy', ascending=False)\n",
    "\n",
    "accuracy_df_sorted.head()"
   ]
  },
  {
   "cell_type": "code",
   "execution_count": 60,
   "metadata": {
    "execution": {
     "iopub.execute_input": "2020-12-27T10:51:46.833008Z",
     "iopub.status.busy": "2020-12-27T10:51:46.831899Z",
     "iopub.status.idle": "2020-12-27T10:51:47.007488Z",
     "shell.execute_reply": "2020-12-27T10:51:47.006427Z"
    },
    "papermill": {
     "duration": 0.294969,
     "end_time": "2020-12-27T10:51:47.007609",
     "exception": false,
     "start_time": "2020-12-27T10:51:46.712640",
     "status": "completed"
    },
    "tags": []
   },
   "outputs": [
    {
     "data": {
      "image/png": "[encoded data removed]",
      "text/plain": [
       "<Figure size 432x288 with 1 Axes>"
      ]
     },
     "metadata": {
      "needs_background": "light"
     },
     "output_type": "display_data"
    }
   ],
   "source": [
    "ax = sns.barplot(data =accuracy_df_sorted, y= 'Models', x= 'Accuracy' )\n",
    "ax.set(ylabel='Models', xlim = (0.7, 0.87))\n",
    "plt.show()"
   ]
  },
  {
   "cell_type": "markdown",
   "metadata": {
    "papermill": {
     "duration": 0.127235,
     "end_time": "2020-12-27T10:51:47.244110",
     "exception": false,
     "start_time": "2020-12-27T10:51:47.116875",
     "status": "completed"
    },
    "tags": []
   },
   "source": [
    "# Ensemble Learning"
   ]
  },
  {
   "cell_type": "markdown",
   "metadata": {
    "papermill": {
     "duration": 0.108862,
     "end_time": "2020-12-27T10:51:47.461314",
     "exception": false,
     "start_time": "2020-12-27T10:51:47.352452",
     "status": "completed"
    },
    "tags": []
   },
   "source": [
    "We have already used Random Forest, Support Vector Machine, Naive Bayes, Decision Tree and K Nearest Neighbors estimators to fit and predict the output for the test dataset and each of them is achieving test accuracy more than 70%. A simple way yo create a better classifier is to aggregate the predictions of each classifier and predict the class that gets the most vote. \n",
    "\n",
    "All classifiers are able to estimate class probabilities (i.e they all have predict_proba() method ), so we can predict the class with the heighest class probability, averaged over all the individual clssifier called as soft voting. "
   ]
  },
  {
   "cell_type": "code",
   "execution_count": 61,
   "metadata": {
    "execution": {
     "iopub.execute_input": "2020-12-27T10:51:47.688637Z",
     "iopub.status.busy": "2020-12-27T10:51:47.687590Z",
     "iopub.status.idle": "2020-12-27T10:53:25.865706Z",
     "shell.execute_reply": "2020-12-27T10:53:25.864644Z"
    },
    "papermill": {
     "duration": 98.295623,
     "end_time": "2020-12-27T10:53:25.865854",
     "exception": false,
     "start_time": "2020-12-27T10:51:47.570231",
     "status": "completed"
    },
    "tags": []
   },
   "outputs": [
    {
     "name": "stderr",
     "output_type": "stream",
     "text": [
      "/opt/conda/lib/python3.7/site-packages/sklearn/utils/validation.py:72: DataConversionWarning: A column-vector y was passed when a 1d array was expected. Please change the shape of y to (n_samples, ), for example using ravel().\n",
      "  return f(**kwargs)\n"
     ]
    }
   ],
   "source": [
    "\n",
    "voting = VotingClassifier(\n",
    "    estimators=[('svm', svm_grid_hypertuned),\n",
    "                ('dt',decision_tree_hypertuned ),\n",
    "                ('knn', k_neigh_hypertuned),\n",
    "               ('rf',random_forest_clf_hypertuned ),\n",
    "               ('nb', naive_bayes_hypertuned )],\n",
    "    voting='soft',\n",
    "    n_jobs=-1\n",
    ")\n",
    "\n",
    "voting = voting.fit(X_train, y_train)"
   ]
  },
  {
   "cell_type": "code",
   "execution_count": 62,
   "metadata": {
    "execution": {
     "iopub.execute_input": "2020-12-27T10:53:26.093337Z",
     "iopub.status.busy": "2020-12-27T10:53:26.092607Z",
     "iopub.status.idle": "2020-12-27T10:53:26.185812Z",
     "shell.execute_reply": "2020-12-27T10:53:26.185202Z"
    },
    "papermill": {
     "duration": 0.208698,
     "end_time": "2020-12-27T10:53:26.185968",
     "exception": false,
     "start_time": "2020-12-27T10:53:25.977270",
     "status": "completed"
    },
    "tags": []
   },
   "outputs": [
    {
     "name": "stdout",
     "output_type": "stream",
     "text": [
      "VotingClassifier(estimators=[('svm',\n",
      "                              GridSearchCV(cv=KFold(n_splits=5, random_state=42, shuffle=True),\n",
      "                                           estimator=SVC(probability=True,\n",
      "                                                         random_state=42),\n",
      "                                           n_jobs=-1,\n",
      "                                           param_grid={'C': [0.001, 0.01, 0.1,\n",
      "                                                             1, 10, 100],\n",
      "                                                       'gamma': [0.001, 0.01,\n",
      "                                                                 0.1, 1, 10,\n",
      "                                                                 100],\n",
      "                                                       'kernel': ['rbf',\n",
      "                                                                  'linear']},\n",
      "                                           scoring='accuracy')),\n",
      "                             ('dt',\n",
      "                              GridSearchCV(cv=KFold(n_splits=5, random_state=42, shuffle=True),...\n",
      "                              GridSearchCV(cv=KFold(n_splits=5, random_state=42, shuffle=True),\n",
      "                                           estimator=GaussianNB(), n_jobs=-1,\n",
      "                                           param_grid={'var_smoothing': [0.36787944117144233,\n",
      "                                                                         0.1353352832366127,\n",
      "                                                                         0.049787068367863944,\n",
      "                                                                         0.01831563888873418,\n",
      "                                                                         0.006737946999085467,\n",
      "                                                                         0.0024787521766663585,\n",
      "                                                                         0.0009118819655545162,\n",
      "                                                                         0.00033546262790251185,\n",
      "                                                                         0.00012340980408667956]},\n",
      "                                           scoring='accuracy'))],\n",
      "                 n_jobs=-1, voting='soft')\n"
     ]
    }
   ],
   "source": [
    "print(voting)"
   ]
  },
  {
   "cell_type": "code",
   "execution_count": 63,
   "metadata": {
    "execution": {
     "iopub.execute_input": "2020-12-27T10:53:26.432508Z",
     "iopub.status.busy": "2020-12-27T10:53:26.431566Z",
     "iopub.status.idle": "2020-12-27T10:53:26.461018Z",
     "shell.execute_reply": "2020-12-27T10:53:26.461691Z"
    },
    "papermill": {
     "duration": 0.14858,
     "end_time": "2020-12-27T10:53:26.461849",
     "exception": false,
     "start_time": "2020-12-27T10:53:26.313269",
     "status": "completed"
    },
    "tags": []
   },
   "outputs": [
    {
     "name": "stdout",
     "output_type": "stream",
     "text": [
      "Accuracy of ensemble method: 0.8101\n"
     ]
    }
   ],
   "source": [
    "y_pred = voting.predict(X_val)\n",
    "\n",
    "voting_accuracy = accuracy_score(y_val, y_pred)\n",
    "print('Accuracy of ensemble method: {:.4f}'.format(voting_accuracy))"
   ]
  },
  {
   "cell_type": "code",
   "execution_count": 64,
   "metadata": {
    "execution": {
     "iopub.execute_input": "2020-12-27T10:53:26.703289Z",
     "iopub.status.busy": "2020-12-27T10:53:26.702437Z",
     "iopub.status.idle": "2020-12-27T10:53:27.034250Z",
     "shell.execute_reply": "2020-12-27T10:53:27.036362Z"
    },
    "papermill": {
     "duration": 0.460488,
     "end_time": "2020-12-27T10:53:27.036721",
     "exception": false,
     "start_time": "2020-12-27T10:53:26.576233",
     "status": "completed"
    },
    "tags": []
   },
   "outputs": [
    {
     "name": "stdout",
     "output_type": "stream",
     "text": [
      "Output saved Successfully\n"
     ]
    }
   ],
   "source": [
    "best_model = voting\n",
    "\n",
    "predictions = best_model.predict(df_test)\n",
    "\n",
    "kaggle_submission_output = pd.DataFrame ({'PassengerId': df_test_copy['PassengerId'], 'Survived':predictions })\n",
    "kaggle_submission_output.to_csv ('Titanic_final_submission.csv', index=False)\n",
    "\n",
    "print('Output saved Successfully')"
   ]
  }
 ],
 "metadata": {
  "kernelspec": {
   "display_name": "Python 3",
   "language": "python",
   "name": "python3"
  },
  "language_info": {
   "codemirror_mode": {
    "name": "ipython",
    "version": 3
   },
   "file_extension": ".py",
   "mimetype": "text/x-python",
   "name": "python",
   "nbconvert_exporter": "python",
   "pygments_lexer": "ipython3",
   "version": "3.7.6"
  },
  "papermill": {
   "duration": 2007.716568,
   "end_time": "2020-12-27T10:53:27.267120",
   "environment_variables": {},
   "exception": null,
   "input_path": "__notebook__.ipynb",
   "output_path": "__notebook__.ipynb",
   "parameters": {},
   "start_time": "2020-12-27T10:19:59.550552",
   "version": "2.1.0"
  }
 },
 "nbformat": 4,
 "nbformat_minor": 4
}
