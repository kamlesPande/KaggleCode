{
 "cells": [
  {
   "cell_type": "code",
   "execution_count": 1,
   "metadata": {
    "_cell_guid": "b1076dfc-b9ad-4769-8c92-a6c4dae69d19",
    "_uuid": "8f2839f25d086af736a60e9eeb907d3b93b6e0e5",
    "execution": {
     "iopub.execute_input": "2021-03-01T09:44:32.272317Z",
     "iopub.status.busy": "2021-03-01T09:44:32.271238Z",
     "iopub.status.idle": "2021-03-01T09:44:32.278049Z",
     "shell.execute_reply": "2021-03-01T09:44:32.278614Z"
    },
    "papermill": {
     "duration": 0.038115,
     "end_time": "2021-03-01T09:44:32.278915",
     "exception": false,
     "start_time": "2021-03-01T09:44:32.240800",
     "status": "completed"
    },
    "tags": []
   },
   "outputs": [
    {
     "name": "stdout",
     "output_type": "stream",
     "text": [
      "/kaggle/input/digit-recognizer/sample_submission.csv\n",
      "/kaggle/input/digit-recognizer/train.csv\n",
      "/kaggle/input/digit-recognizer/test.csv\n"
     ]
    }
   ],
   "source": [
    "# This Python 3 environment comes with many helpful analytics libraries installed\n",
    "# It is defined by the kaggle/python Docker image: https://github.com/kaggle/docker-python\n",
    "# For example, here's several helpful packages to load\n",
    "\n",
    "import numpy as np # linear algebra\n",
    "import pandas as pd # data processing, CSV file I/O (e.g. pd.read_csv)\n",
    "\n",
    "# Input data files are available in the read-only \"../input/\" directory\n",
    "# For example, running this (by clicking run or pressing Shift+Enter) will list all files under the input directory\n",
    "\n",
    "import os\n",
    "for dirname, _, filenames in os.walk('/kaggle/input'):\n",
    "    for filename in filenames:\n",
    "        print(os.path.join(dirname, filename))\n",
    "\n",
    "# You can write up to 20GB to the current directory (/kaggle/working/) that gets preserved as output when you create a version using \"Save & Run All\" \n",
    "# You can also write temporary files to /kaggle/temp/, but they won't be saved outside of the current session"
   ]
  },
  {
   "cell_type": "code",
   "execution_count": 2,
   "metadata": {
    "execution": {
     "iopub.execute_input": "2021-03-01T09:44:32.324015Z",
     "iopub.status.busy": "2021-03-01T09:44:32.323294Z",
     "iopub.status.idle": "2021-03-01T09:44:39.696746Z",
     "shell.execute_reply": "2021-03-01T09:44:39.696222Z"
    },
    "papermill": {
     "duration": 7.398325,
     "end_time": "2021-03-01T09:44:39.697471",
     "exception": false,
     "start_time": "2021-03-01T09:44:32.299146",
     "status": "completed"
    },
    "tags": []
   },
   "outputs": [
    {
     "name": "stdout",
     "output_type": "stream",
     "text": [
      "Tensorflow Version 2.4.1\n"
     ]
    }
   ],
   "source": [
    "import tensorflow as tf\n",
    "import numpy as np\n",
    "import matplotlib.pyplot as plt\n",
    "import sklearn\n",
    "from sklearn.model_selection import train_test_split\n",
    "import seaborn as sns\n",
    "\n",
    "\n",
    "print('Tensorflow Version {}'.format(tf.__version__))"
   ]
  },
  {
   "cell_type": "markdown",
   "metadata": {
    "papermill": {
     "duration": 0.020164,
     "end_time": "2021-03-01T09:44:39.738468",
     "exception": false,
     "start_time": "2021-03-01T09:44:39.718304",
     "status": "completed"
    },
    "tags": []
   },
   "source": [
    "# 1. Data Preprocessing "
   ]
  },
  {
   "cell_type": "code",
   "execution_count": 3,
   "metadata": {
    "execution": {
     "iopub.execute_input": "2021-03-01T09:44:39.785589Z",
     "iopub.status.busy": "2021-03-01T09:44:39.784928Z",
     "iopub.status.idle": "2021-03-01T09:44:46.575810Z",
     "shell.execute_reply": "2021-03-01T09:44:46.576509Z"
    },
    "papermill": {
     "duration": 6.818394,
     "end_time": "2021-03-01T09:44:46.576684",
     "exception": false,
     "start_time": "2021-03-01T09:44:39.758290",
     "status": "completed"
    },
    "tags": []
   },
   "outputs": [
    {
     "name": "stdout",
     "output_type": "stream",
     "text": [
      "Total size of the train dataset is (42000, 785)\n",
      "Total size of the test dataset is (28000, 784)\n"
     ]
    }
   ],
   "source": [
    "import pandas as pd\n",
    "\n",
    "train_dataset = pd.read_csv('/kaggle/input/digit-recognizer/train.csv')\n",
    "test_dataset = pd.read_csv('/kaggle/input/digit-recognizer/test.csv')\n",
    "\n",
    "print('Total size of the train dataset is {}'.format(train_dataset.shape))\n",
    "print('Total size of the test dataset is {}'.format(test_dataset.shape))"
   ]
  },
  {
   "cell_type": "code",
   "execution_count": 4,
   "metadata": {
    "execution": {
     "iopub.execute_input": "2021-03-01T09:44:46.655056Z",
     "iopub.status.busy": "2021-03-01T09:44:46.653903Z",
     "iopub.status.idle": "2021-03-01T09:44:46.774813Z",
     "shell.execute_reply": "2021-03-01T09:44:46.775851Z"
    },
    "papermill": {
     "duration": 0.164149,
     "end_time": "2021-03-01T09:44:46.776131",
     "exception": false,
     "start_time": "2021-03-01T09:44:46.611982",
     "status": "completed"
    },
    "tags": []
   },
   "outputs": [
    {
     "name": "stdout",
     "output_type": "stream",
     "text": [
      "Size of X_train (42000, 784)\n",
      "Size of y_train (42000,)\n"
     ]
    }
   ],
   "source": [
    "y_train = train_dataset['label']\n",
    "\n",
    "X_train = train_dataset.drop(['label'], axis=1)\n",
    "\n",
    "\n",
    "print('Size of X_train {}'.format(X_train.shape))\n",
    "print('Size of y_train {}'.format(y_train.shape))"
   ]
  },
  {
   "cell_type": "markdown",
   "metadata": {
    "papermill": {
     "duration": 0.028136,
     "end_time": "2021-03-01T09:44:46.836593",
     "exception": false,
     "start_time": "2021-03-01T09:44:46.808457",
     "status": "completed"
    },
    "tags": []
   },
   "source": [
    "# 1.2 Missing Values"
   ]
  },
  {
   "cell_type": "code",
   "execution_count": 5,
   "metadata": {
    "execution": {
     "iopub.execute_input": "2021-03-01T09:44:46.906914Z",
     "iopub.status.busy": "2021-03-01T09:44:46.906045Z",
     "iopub.status.idle": "2021-03-01T09:44:46.950139Z",
     "shell.execute_reply": "2021-03-01T09:44:46.951854Z"
    },
    "papermill": {
     "duration": 0.085475,
     "end_time": "2021-03-01T09:44:46.952135",
     "exception": false,
     "start_time": "2021-03-01T09:44:46.866660",
     "status": "completed"
    },
    "tags": []
   },
   "outputs": [
    {
     "data": {
      "text/plain": [
       "count       785\n",
       "unique        1\n",
       "top       False\n",
       "freq        785\n",
       "dtype: object"
      ]
     },
     "execution_count": 5,
     "metadata": {},
     "output_type": "execute_result"
    }
   ],
   "source": [
    "train_dataset.isna().any().describe()"
   ]
  },
  {
   "cell_type": "code",
   "execution_count": 6,
   "metadata": {
    "execution": {
     "iopub.execute_input": "2021-03-01T09:44:47.032475Z",
     "iopub.status.busy": "2021-03-01T09:44:47.031359Z",
     "iopub.status.idle": "2021-03-01T09:44:47.050774Z",
     "shell.execute_reply": "2021-03-01T09:44:47.052048Z"
    },
    "papermill": {
     "duration": 0.066119,
     "end_time": "2021-03-01T09:44:47.052269",
     "exception": false,
     "start_time": "2021-03-01T09:44:46.986150",
     "status": "completed"
    },
    "tags": []
   },
   "outputs": [
    {
     "data": {
      "text/plain": [
       "count       784\n",
       "unique        1\n",
       "top       False\n",
       "freq        784\n",
       "dtype: object"
      ]
     },
     "execution_count": 6,
     "metadata": {},
     "output_type": "execute_result"
    }
   ],
   "source": [
    "test_dataset.isna().any().describe()"
   ]
  },
  {
   "cell_type": "markdown",
   "metadata": {
    "papermill": {
     "duration": 0.033451,
     "end_time": "2021-03-01T09:44:47.119425",
     "exception": false,
     "start_time": "2021-03-01T09:44:47.085974",
     "status": "completed"
    },
    "tags": []
   },
   "source": [
    "# 1.3 Normalizing and Reshaping"
   ]
  },
  {
   "cell_type": "code",
   "execution_count": 7,
   "metadata": {
    "execution": {
     "iopub.execute_input": "2021-03-01T09:44:47.211903Z",
     "iopub.status.busy": "2021-03-01T09:44:47.211012Z",
     "iopub.status.idle": "2021-03-01T09:44:47.456509Z",
     "shell.execute_reply": "2021-03-01T09:44:47.455154Z"
    },
    "papermill": {
     "duration": 0.30379,
     "end_time": "2021-03-01T09:44:47.456709",
     "exception": false,
     "start_time": "2021-03-01T09:44:47.152919",
     "status": "completed"
    },
    "tags": []
   },
   "outputs": [],
   "source": [
    "# Normalization of the data\n",
    "X_train = X_train/255.0\n",
    "test_dataset = test_dataset/255.0"
   ]
  },
  {
   "cell_type": "code",
   "execution_count": 8,
   "metadata": {
    "execution": {
     "iopub.execute_input": "2021-03-01T09:44:47.530197Z",
     "iopub.status.busy": "2021-03-01T09:44:47.529296Z",
     "iopub.status.idle": "2021-03-01T09:44:47.536855Z",
     "shell.execute_reply": "2021-03-01T09:44:47.537648Z"
    },
    "papermill": {
     "duration": 0.048366,
     "end_time": "2021-03-01T09:44:47.537843",
     "exception": false,
     "start_time": "2021-03-01T09:44:47.489477",
     "status": "completed"
    },
    "tags": []
   },
   "outputs": [
    {
     "name": "stdout",
     "output_type": "stream",
     "text": [
      "Shape of the train dataset is (42000, 28, 28, 1)\n",
      "Shape of the test dataset is (28000, 28, 28, 1)\n"
     ]
    }
   ],
   "source": [
    "# Reshaping of the dataset\n",
    "X_train = X_train.values.reshape(-1, 28, 28, 1)\n",
    "test_dataset = test_dataset.values.reshape(-1,28,28,1)\n",
    "\n",
    "print('Shape of the train dataset is {}'.format(X_train.shape))\n",
    "print('Shape of the test dataset is {}'.format(test_dataset.shape))"
   ]
  },
  {
   "cell_type": "markdown",
   "metadata": {
    "papermill": {
     "duration": 0.03092,
     "end_time": "2021-03-01T09:44:47.600301",
     "exception": false,
     "start_time": "2021-03-01T09:44:47.569381",
     "status": "completed"
    },
    "tags": []
   },
   "source": [
    "# 1.4 One-Hot-Encoding\n",
    "\n",
    "One hot encoding of label feature"
   ]
  },
  {
   "cell_type": "code",
   "execution_count": 9,
   "metadata": {
    "execution": {
     "iopub.execute_input": "2021-03-01T09:44:47.675486Z",
     "iopub.status.busy": "2021-03-01T09:44:47.673946Z",
     "iopub.status.idle": "2021-03-01T09:44:47.678468Z",
     "shell.execute_reply": "2021-03-01T09:44:47.674681Z"
    },
    "papermill": {
     "duration": 0.045696,
     "end_time": "2021-03-01T09:44:47.678762",
     "exception": false,
     "start_time": "2021-03-01T09:44:47.633066",
     "status": "completed"
    },
    "tags": []
   },
   "outputs": [
    {
     "name": "stdout",
     "output_type": "stream",
     "text": [
      "Shape of y_train after one hot encoding (42000, 10)\n"
     ]
    }
   ],
   "source": [
    "from tensorflow.keras.utils import to_categorical\n",
    "y_train = to_categorical(y_train, num_classes=10)\n",
    "\n",
    "print('Shape of y_train after one hot encoding {}'.format(y_train.shape))\n"
   ]
  },
  {
   "cell_type": "markdown",
   "metadata": {
    "papermill": {
     "duration": 0.031063,
     "end_time": "2021-03-01T09:44:47.745197",
     "exception": false,
     "start_time": "2021-03-01T09:44:47.714134",
     "status": "completed"
    },
    "tags": []
   },
   "source": [
    "# 2. Train and Test Split"
   ]
  },
  {
   "cell_type": "code",
   "execution_count": 10,
   "metadata": {
    "execution": {
     "iopub.execute_input": "2021-03-01T09:44:47.800899Z",
     "iopub.status.busy": "2021-03-01T09:44:47.799626Z",
     "iopub.status.idle": "2021-03-01T09:44:48.181057Z",
     "shell.execute_reply": "2021-03-01T09:44:48.181779Z"
    },
    "papermill": {
     "duration": 0.413668,
     "end_time": "2021-03-01T09:44:48.182036",
     "exception": false,
     "start_time": "2021-03-01T09:44:47.768368",
     "status": "completed"
    },
    "tags": []
   },
   "outputs": [
    {
     "name": "stdout",
     "output_type": "stream",
     "text": [
      "Size of train dataset is (33600, 28, 28, 1)\n",
      "Size of the val dataset is (8400, 28, 28, 1)\n"
     ]
    }
   ],
   "source": [
    "from sklearn.model_selection import train_test_split\n",
    "\n",
    "x_train, x_val, y_train, y_val = train_test_split(X_train, y_train, random_state=42, shuffle=True, test_size=0.2)\n",
    "\n",
    "print('Size of train dataset is {}'.format(x_train.shape))\n",
    "print('Size of the val dataset is {}'.format(x_val.shape))"
   ]
  },
  {
   "cell_type": "code",
   "execution_count": 11,
   "metadata": {
    "execution": {
     "iopub.execute_input": "2021-03-01T09:44:48.253316Z",
     "iopub.status.busy": "2021-03-01T09:44:48.252295Z",
     "iopub.status.idle": "2021-03-01T09:44:48.414985Z",
     "shell.execute_reply": "2021-03-01T09:44:48.415539Z"
    },
    "papermill": {
     "duration": 0.20826,
     "end_time": "2021-03-01T09:44:48.415719",
     "exception": false,
     "start_time": "2021-03-01T09:44:48.207459",
     "status": "completed"
    },
    "tags": []
   },
   "outputs": [
    {
     "data": {
      "text/plain": [
       "<matplotlib.image.AxesImage at 0x7f86152c9910>"
      ]
     },
     "execution_count": 11,
     "metadata": {},
     "output_type": "execute_result"
    },
    {
     "data": {
      "image/png": "[encoded data removed]",
      "text/plain": [
       "<Figure size 432x288 with 1 Axes>"
      ]
     },
     "metadata": {
      "needs_background": "light"
     },
     "output_type": "display_data"
    }
   ],
   "source": [
    "#visulaization of training set\n",
    "import random\n",
    "i = random.randint(10,5000)\n",
    "plt.imshow(x_train[i][:,:,0])\n",
    "    "
   ]
  },
  {
   "cell_type": "markdown",
   "metadata": {
    "papermill": {
     "duration": 0.025947,
     "end_time": "2021-03-01T09:44:48.468362",
     "exception": false,
     "start_time": "2021-03-01T09:44:48.442415",
     "status": "completed"
    },
    "tags": []
   },
   "source": [
    "# 3. CNN Sequential Model"
   ]
  },
  {
   "cell_type": "code",
   "execution_count": 12,
   "metadata": {
    "execution": {
     "iopub.execute_input": "2021-03-01T09:44:48.525692Z",
     "iopub.status.busy": "2021-03-01T09:44:48.524928Z",
     "iopub.status.idle": "2021-03-01T09:44:48.528406Z",
     "shell.execute_reply": "2021-03-01T09:44:48.528911Z"
    },
    "papermill": {
     "duration": 0.034559,
     "end_time": "2021-03-01T09:44:48.529070",
     "exception": false,
     "start_time": "2021-03-01T09:44:48.494511",
     "status": "completed"
    },
    "tags": []
   },
   "outputs": [],
   "source": [
    "# setting up model parameters\n",
    "input_shape = (28,28,1)\n",
    "batch_size = 64\n",
    "num_classes = y_train.shape[1]\n",
    "epochs = 20"
   ]
  },
  {
   "cell_type": "code",
   "execution_count": 13,
   "metadata": {
    "execution": {
     "iopub.execute_input": "2021-03-01T09:44:48.590062Z",
     "iopub.status.busy": "2021-03-01T09:44:48.589377Z",
     "iopub.status.idle": "2021-03-01T09:44:51.934351Z",
     "shell.execute_reply": "2021-03-01T09:44:51.933437Z"
    },
    "papermill": {
     "duration": 3.379758,
     "end_time": "2021-03-01T09:44:51.934521",
     "exception": false,
     "start_time": "2021-03-01T09:44:48.554763",
     "status": "completed"
    },
    "tags": []
   },
   "outputs": [],
   "source": [
    "# CNN model\n",
    "\n",
    "model = tf.keras.Sequential([\n",
    "    tf.keras.layers.Conv2D(32, (5,5), padding ='same', activation='relu', input_shape=input_shape),\n",
    "    tf.keras.layers.Conv2D(32, (5,5), padding ='same', activation='relu'),\n",
    "    tf.keras.layers.MaxPool2D(),\n",
    "    tf.keras.layers.Dropout(0.25),\n",
    "    tf.keras.layers.Conv2D(64, (3,3), padding='same', activation='relu'),\n",
    "    tf.keras.layers.Conv2D(64, (3,3), padding='same', activation='relu'),\n",
    "    tf.keras.layers.MaxPool2D(),\n",
    "    tf.keras.layers.Dropout(0.25),\n",
    "    tf.keras.layers.Flatten(),\n",
    "    tf.keras.layers.Dense(128, activation='relu'),\n",
    "    tf.keras.layers.Dropout(0.25),\n",
    "    tf.keras.layers.Dense(num_classes, activation='softmax')   \n",
    "    \n",
    "])\n",
    "\n",
    "model.compile (optimizer=tf.keras.optimizers.RMSprop(epsilon=1e-08), loss='categorical_crossentropy', metrics=['accuracy'])"
   ]
  },
  {
   "cell_type": "code",
   "execution_count": 14,
   "metadata": {
    "execution": {
     "iopub.execute_input": "2021-03-01T09:44:51.997406Z",
     "iopub.status.busy": "2021-03-01T09:44:51.996414Z",
     "iopub.status.idle": "2021-03-01T09:44:51.999341Z",
     "shell.execute_reply": "2021-03-01T09:44:51.999934Z"
    },
    "papermill": {
     "duration": 0.037297,
     "end_time": "2021-03-01T09:44:52.000105",
     "exception": false,
     "start_time": "2021-03-01T09:44:51.962808",
     "status": "completed"
    },
    "tags": []
   },
   "outputs": [],
   "source": [
    "# creating a callback for 99.55% accuracy\n",
    "\n",
    "class myCallback(tf.keras.callbacks.Callback):\n",
    "    def on_epoch_end(self, epoch, logs={}):\n",
    "        if(logs.get('acc') is not None and logs.get('acc')> 0.995):\n",
    "            print(\"\\n Reached 99.5% of accuracy!!\")\n",
    "            self.model.stop_training=True\n",
    "            \n",
    "callback= myCallback()"
   ]
  },
  {
   "cell_type": "markdown",
   "metadata": {
    "papermill": {
     "duration": 0.026868,
     "end_time": "2021-03-01T09:44:52.053977",
     "exception": false,
     "start_time": "2021-03-01T09:44:52.027109",
     "status": "completed"
    },
    "tags": []
   },
   "source": [
    "# 4. Data Augmentation"
   ]
  },
  {
   "cell_type": "code",
   "execution_count": 15,
   "metadata": {
    "execution": {
     "iopub.execute_input": "2021-03-01T09:44:52.116558Z",
     "iopub.status.busy": "2021-03-01T09:44:52.115333Z",
     "iopub.status.idle": "2021-03-01T09:44:52.201612Z",
     "shell.execute_reply": "2021-03-01T09:44:52.200949Z"
    },
    "papermill": {
     "duration": 0.119845,
     "end_time": "2021-03-01T09:44:52.201762",
     "exception": false,
     "start_time": "2021-03-01T09:44:52.081917",
     "status": "completed"
    },
    "tags": []
   },
   "outputs": [],
   "source": [
    "from tensorflow.keras.preprocessing.image import ImageDataGenerator\n",
    "datagen = ImageDataGenerator(\n",
    "        featurewise_center=False,  # set input mean to 0 over the dataset\n",
    "        samplewise_center=False,  # set each sample mean to 0\n",
    "        featurewise_std_normalization=False,  # divide inputs by std of the dataset\n",
    "        samplewise_std_normalization=False,  # divide each input by its std\n",
    "        zca_whitening=False,  # apply ZCA whitening\n",
    "        rotation_range=10,  # randomly rotate images in the range (degrees, 0 to 180)\n",
    "        zoom_range = 0.1, # Randomly zoom image \n",
    "        width_shift_range=0.1,  # randomly shift images horizontally (fraction of total width)\n",
    "        height_shift_range=0.1,  # randomly shift images vertically (fraction of total height)\n",
    "        horizontal_flip=False,  # randomly flip images\n",
    "        vertical_flip=False)\n",
    "\n",
    "datagen.fit(x_train)"
   ]
  },
  {
   "cell_type": "code",
   "execution_count": 16,
   "metadata": {
    "execution": {
     "iopub.execute_input": "2021-03-01T09:44:52.272536Z",
     "iopub.status.busy": "2021-03-01T09:44:52.271356Z",
     "iopub.status.idle": "2021-03-01T09:48:59.051023Z",
     "shell.execute_reply": "2021-03-01T09:48:59.050376Z"
    },
    "papermill": {
     "duration": 246.821713,
     "end_time": "2021-03-01T09:48:59.051203",
     "exception": false,
     "start_time": "2021-03-01T09:44:52.229490",
     "status": "completed"
    },
    "tags": []
   },
   "outputs": [
    {
     "name": "stderr",
     "output_type": "stream",
     "text": [
      "/opt/conda/lib/python3.7/site-packages/tensorflow/python/keras/engine/training.py:1844: UserWarning: `Model.fit_generator` is deprecated and will be removed in a future version. Please use `Model.fit`, which supports generators.\n",
      "  warnings.warn('`Model.fit_generator` is deprecated and '\n"
     ]
    },
    {
     "name": "stdout",
     "output_type": "stream",
     "text": [
      "Epoch 1/20\n",
      "525/525 [==============================] - 17s 24ms/step - loss: 0.7941 - accuracy: 0.7317 - val_loss: 0.0717 - val_accuracy: 0.9785\n",
      "Epoch 2/20\n",
      "525/525 [==============================] - 12s 23ms/step - loss: 0.1364 - accuracy: 0.9585 - val_loss: 0.0413 - val_accuracy: 0.9871\n",
      "Epoch 3/20\n",
      "525/525 [==============================] - 12s 22ms/step - loss: 0.0979 - accuracy: 0.9710 - val_loss: 0.0437 - val_accuracy: 0.9887\n",
      "Epoch 4/20\n",
      "525/525 [==============================] - 12s 22ms/step - loss: 0.0781 - accuracy: 0.9768 - val_loss: 0.0264 - val_accuracy: 0.9924\n",
      "Epoch 5/20\n",
      "525/525 [==============================] - 12s 24ms/step - loss: 0.0659 - accuracy: 0.9807 - val_loss: 0.0285 - val_accuracy: 0.9908\n",
      "Epoch 6/20\n",
      "525/525 [==============================] - 12s 23ms/step - loss: 0.0580 - accuracy: 0.9818 - val_loss: 0.0342 - val_accuracy: 0.9902\n",
      "Epoch 7/20\n",
      "525/525 [==============================] - 12s 23ms/step - loss: 0.0570 - accuracy: 0.9831 - val_loss: 0.0320 - val_accuracy: 0.9910\n",
      "Epoch 8/20\n",
      "525/525 [==============================] - 13s 24ms/step - loss: 0.0560 - accuracy: 0.9836 - val_loss: 0.0290 - val_accuracy: 0.9919\n",
      "Epoch 9/20\n",
      "525/525 [==============================] - 12s 22ms/step - loss: 0.0575 - accuracy: 0.9836 - val_loss: 0.0248 - val_accuracy: 0.9926\n",
      "Epoch 10/20\n",
      "525/525 [==============================] - 12s 23ms/step - loss: 0.0534 - accuracy: 0.9842 - val_loss: 0.0313 - val_accuracy: 0.9908\n",
      "Epoch 11/20\n",
      "525/525 [==============================] - 12s 23ms/step - loss: 0.0546 - accuracy: 0.9840 - val_loss: 0.0322 - val_accuracy: 0.9921\n",
      "Epoch 12/20\n",
      "525/525 [==============================] - 12s 22ms/step - loss: 0.0487 - accuracy: 0.9864 - val_loss: 0.0211 - val_accuracy: 0.9925\n",
      "Epoch 13/20\n",
      "525/525 [==============================] - 13s 24ms/step - loss: 0.0546 - accuracy: 0.9849 - val_loss: 0.0355 - val_accuracy: 0.9901\n",
      "Epoch 14/20\n",
      "525/525 [==============================] - 12s 23ms/step - loss: 0.0476 - accuracy: 0.9858 - val_loss: 0.0262 - val_accuracy: 0.9929\n",
      "Epoch 15/20\n",
      "525/525 [==============================] - 12s 23ms/step - loss: 0.0570 - accuracy: 0.9843 - val_loss: 0.0287 - val_accuracy: 0.9929\n",
      "Epoch 16/20\n",
      "525/525 [==============================] - 12s 24ms/step - loss: 0.0551 - accuracy: 0.9850 - val_loss: 0.0348 - val_accuracy: 0.9913\n",
      "Epoch 17/20\n",
      "525/525 [==============================] - 12s 22ms/step - loss: 0.0545 - accuracy: 0.9840 - val_loss: 0.0331 - val_accuracy: 0.9912\n",
      "Epoch 18/20\n",
      "525/525 [==============================] - 12s 23ms/step - loss: 0.0534 - accuracy: 0.9860 - val_loss: 0.0294 - val_accuracy: 0.9927\n",
      "Epoch 19/20\n",
      "525/525 [==============================] - 12s 23ms/step - loss: 0.0547 - accuracy: 0.9854 - val_loss: 0.0464 - val_accuracy: 0.9907\n",
      "Epoch 20/20\n",
      "525/525 [==============================] - 12s 22ms/step - loss: 0.0644 - accuracy: 0.9831 - val_loss: 0.0465 - val_accuracy: 0.9924\n"
     ]
    }
   ],
   "source": [
    "history = model.fit_generator(datagen.flow(x_train, y_train, batch_size = batch_size),\n",
    "                  epochs=epochs,\n",
    "                  validation_data= (x_val, y_val),\n",
    "                  callbacks = [callback]\n",
    "                   )   "
   ]
  },
  {
   "cell_type": "code",
   "execution_count": 17,
   "metadata": {
    "execution": {
     "iopub.execute_input": "2021-03-01T09:49:01.784753Z",
     "iopub.status.busy": "2021-03-01T09:49:01.783045Z",
     "iopub.status.idle": "2021-03-01T09:49:01.787381Z",
     "shell.execute_reply": "2021-03-01T09:49:01.787916Z"
    },
    "papermill": {
     "duration": 1.356374,
     "end_time": "2021-03-01T09:49:01.788139",
     "exception": false,
     "start_time": "2021-03-01T09:49:00.431765",
     "status": "completed"
    },
    "tags": []
   },
   "outputs": [
    {
     "data": {
      "text/plain": [
       "dict_keys(['loss', 'accuracy', 'val_loss', 'val_accuracy'])"
      ]
     },
     "execution_count": 17,
     "metadata": {},
     "output_type": "execute_result"
    }
   ],
   "source": [
    "history.history.keys()"
   ]
  },
  {
   "cell_type": "code",
   "execution_count": 18,
   "metadata": {
    "execution": {
     "iopub.execute_input": "2021-03-01T09:49:04.534194Z",
     "iopub.status.busy": "2021-03-01T09:49:04.532897Z",
     "iopub.status.idle": "2021-03-01T09:49:04.947418Z",
     "shell.execute_reply": "2021-03-01T09:49:04.946487Z"
    },
    "papermill": {
     "duration": 1.793809,
     "end_time": "2021-03-01T09:49:04.947574",
     "exception": false,
     "start_time": "2021-03-01T09:49:03.153765",
     "status": "completed"
    },
    "tags": []
   },
   "outputs": [
    {
     "data": {
      "text/plain": [
       "Text(0.5, 1.0, 'Accuracy curve for Training and Validation Dataset')"
      ]
     },
     "execution_count": 18,
     "metadata": {},
     "output_type": "execute_result"
    },
    {
     "data": {
      "image/png": "[encoded data removed]",
      "text/plain": [
       "<Figure size 1800x360 with 2 Axes>"
      ]
     },
     "metadata": {
      "needs_background": "light"
     },
     "output_type": "display_data"
    }
   ],
   "source": [
    "fig, ax = plt.subplots(1,2,figsize=(25,5))\n",
    "\n",
    "#Loss Curve\n",
    "ax[0].plot(history.history['loss'], color='r', label='Training Loss')\n",
    "ax[0].plot(history.history['val_loss'], color='b', label='Validation Loss')\n",
    "ax[0].legend(loc='best')\n",
    "ax[0].set_title('Loss curve for Training and validation DataSet', color='k', size=15)\n",
    "\n",
    "#Accuracy Curve\n",
    "ax[1].plot(history.history['accuracy'], color='r', label='Training Accuracy')\n",
    "ax[1].plot(history.history['val_accuracy'], color='b', label='Validation Accuracy')\n",
    "ax[1].legend(loc='best')\n",
    "ax[1].set_title('Accuracy curve for Training and Validation Dataset', size=15)"
   ]
  },
  {
   "cell_type": "markdown",
   "metadata": {
    "papermill": {
     "duration": 1.411402,
     "end_time": "2021-03-01T09:49:07.726175",
     "exception": false,
     "start_time": "2021-03-01T09:49:06.314773",
     "status": "completed"
    },
    "tags": []
   },
   "source": [
    "# 5. Predictions"
   ]
  },
  {
   "cell_type": "code",
   "execution_count": 19,
   "metadata": {
    "execution": {
     "iopub.execute_input": "2021-03-01T09:49:10.876796Z",
     "iopub.status.busy": "2021-03-01T09:49:10.875854Z",
     "iopub.status.idle": "2021-03-01T09:49:12.352504Z",
     "shell.execute_reply": "2021-03-01T09:49:12.351982Z"
    },
    "papermill": {
     "duration": 3.251497,
     "end_time": "2021-03-01T09:49:12.352658",
     "exception": false,
     "start_time": "2021-03-01T09:49:09.101161",
     "status": "completed"
    },
    "tags": []
   },
   "outputs": [
    {
     "data": {
      "text/plain": [
       "<AxesSubplot:>"
      ]
     },
     "execution_count": 19,
     "metadata": {},
     "output_type": "execute_result"
    },
    {
     "data": {
      "image/png": "[encoded data removed]",
      "text/plain": [
       "<Figure size 720x576 with 2 Axes>"
      ]
     },
     "metadata": {
      "needs_background": "light"
     },
     "output_type": "display_data"
    }
   ],
   "source": [
    "y_val_predict = model.predict(x_val)\n",
    "\n",
    "y_val_predict_class = np.argmax(y_val_predict, axis=1)\n",
    "\n",
    "\n",
    "y_val_true_class = np.argmax(y_val, axis=1)\n",
    "\n",
    "\n",
    "confusion_matrix = tf.math.confusion_matrix(y_val_true_class, y_val_predict_class)\n",
    "\n",
    "\n",
    "# heatmap for confusion matrix\n",
    "plt.figure(figsize=(10,8))\n",
    "sns.heatmap(confusion_matrix, annot=True, fmt='g')"
   ]
  },
  {
   "cell_type": "code",
   "execution_count": 20,
   "metadata": {
    "execution": {
     "iopub.execute_input": "2021-03-01T09:49:15.070436Z",
     "iopub.status.busy": "2021-03-01T09:49:15.069362Z",
     "iopub.status.idle": "2021-03-01T09:49:16.455549Z",
     "shell.execute_reply": "2021-03-01T09:49:16.456256Z"
    },
    "papermill": {
     "duration": 2.760931,
     "end_time": "2021-03-01T09:49:16.456494",
     "exception": false,
     "start_time": "2021-03-01T09:49:13.695563",
     "status": "completed"
    },
    "tags": []
   },
   "outputs": [
    {
     "name": "stdout",
     "output_type": "stream",
     "text": [
      "[2 0 9 ... 3 9 2]\n"
     ]
    }
   ],
   "source": [
    "# predict result of test dataset\n",
    "\n",
    "predict_test = model.predict(test_dataset)\n",
    "results = np.argmax(predict_test, axis=1)\n",
    "\n",
    "\n",
    "print(results)"
   ]
  },
  {
   "cell_type": "code",
   "execution_count": 21,
   "metadata": {
    "execution": {
     "iopub.execute_input": "2021-03-01T09:49:19.216695Z",
     "iopub.status.busy": "2021-03-01T09:49:19.215831Z",
     "iopub.status.idle": "2021-03-01T09:49:19.405027Z",
     "shell.execute_reply": "2021-03-01T09:49:19.403773Z"
    },
    "papermill": {
     "duration": 1.5753,
     "end_time": "2021-03-01T09:49:19.405202",
     "exception": false,
     "start_time": "2021-03-01T09:49:17.829902",
     "status": "completed"
    },
    "tags": []
   },
   "outputs": [],
   "source": [
    "# converting to csv for submission\n",
    "results = pd.Series(results, name='Label')\n",
    "\n",
    "final_result = pd.concat([pd.Series(range(1, test_dataset.shape[0]+1), name='ImageId'), results], axis=1)\n",
    "\n",
    "\n",
    "final_result.to_csv('CNN_digit_classification_TensorFlow.csv', index=False)"
   ]
  },
  {
   "cell_type": "markdown",
   "metadata": {
    "papermill": {
     "duration": 1.401551,
     "end_time": "2021-03-01T09:49:22.388519",
     "exception": false,
     "start_time": "2021-03-01T09:49:20.986968",
     "status": "completed"
    },
    "tags": []
   },
   "source": [
    "If you like this notebook, please upvote!! Happy Learning "
   ]
  }
 ],
 "metadata": {
  "kernelspec": {
   "display_name": "Python 3",
   "language": "python",
   "name": "python3"
  },
  "language_info": {
   "codemirror_mode": {
    "name": "ipython",
    "version": 3
   },
   "file_extension": ".py",
   "mimetype": "text/x-python",
   "name": "python",
   "nbconvert_exporter": "python",
   "pygments_lexer": "ipython3",
   "version": "3.7.9"
  },
  "papermill": {
   "default_parameters": {},
   "duration": 301.252721,
   "end_time": "2021-03-01T09:49:27.246806",
   "environment_variables": {},
   "exception": null,
   "input_path": "__notebook__.ipynb",
   "output_path": "__notebook__.ipynb",
   "parameters": {},
   "start_time": "2021-03-01T09:44:25.994085",
   "version": "2.2.2"
  }
 },
 "nbformat": 4,
 "nbformat_minor": 4
}
