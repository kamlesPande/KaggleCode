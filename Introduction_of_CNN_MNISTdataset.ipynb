{
 "cells": [
  {
   "cell_type": "markdown",
   "metadata": {
    "papermill": {
     "duration": 0.016466,
     "end_time": "2021-02-28T13:37:39.277711",
     "exception": false,
     "start_time": "2021-02-28T13:37:39.261245",
     "status": "completed"
    },
    "tags": []
   },
   "source": [
    "# 1. Introducton of MNIST Dataset\n",
    "\n",
    "MNIS is database of handwritten digits, it has 60K training and 10K testing images/examples. We will try to built a simple sequential model to classify test examples and predict the label of test examples. More about MNIST can be found here [MNIST Dataset](http://yann.lecun.com/exdb/mnist/)\n",
    "\n",
    "I am using GPU provided by Kaggle for faster training of the model."
   ]
  },
  {
   "cell_type": "code",
   "execution_count": 1,
   "metadata": {
    "execution": {
     "iopub.execute_input": "2021-02-28T13:37:39.314825Z",
     "iopub.status.busy": "2021-02-28T13:37:39.314259Z",
     "iopub.status.idle": "2021-02-28T13:37:45.284111Z",
     "shell.execute_reply": "2021-02-28T13:37:45.285157Z"
    },
    "papermill": {
     "duration": 5.99161,
     "end_time": "2021-02-28T13:37:45.285515",
     "exception": false,
     "start_time": "2021-02-28T13:37:39.293905",
     "status": "completed"
    },
    "tags": []
   },
   "outputs": [
    {
     "name": "stdout",
     "output_type": "stream",
     "text": [
      "Tensorflow version 2.4.1\n"
     ]
    }
   ],
   "source": [
    "import tensorflow as tf\n",
    "import numpy as np\n",
    "import seaborn as sns\n",
    "import matplotlib.pyplot as plt\n",
    "import sklearn\n",
    "SEED=42\n",
    "\n",
    "print(\"Tensorflow version {}\".format(tf.__version__))"
   ]
  },
  {
   "cell_type": "markdown",
   "metadata": {
    "papermill": {
     "duration": 0.016188,
     "end_time": "2021-02-28T13:37:45.318554",
     "exception": false,
     "start_time": "2021-02-28T13:37:45.302366",
     "status": "completed"
    },
    "tags": []
   },
   "source": [
    "# 2. Data Preprocessing "
   ]
  },
  {
   "cell_type": "code",
   "execution_count": 2,
   "metadata": {
    "execution": {
     "iopub.execute_input": "2021-02-28T13:37:45.355442Z",
     "iopub.status.busy": "2021-02-28T13:37:45.354881Z",
     "iopub.status.idle": "2021-02-28T13:37:46.095969Z",
     "shell.execute_reply": "2021-02-28T13:37:46.095480Z"
    },
    "papermill": {
     "duration": 0.761701,
     "end_time": "2021-02-28T13:37:46.096132",
     "exception": false,
     "start_time": "2021-02-28T13:37:45.334431",
     "status": "completed"
    },
    "tags": []
   },
   "outputs": [
    {
     "name": "stdout",
     "output_type": "stream",
     "text": [
      "Downloading data from https://storage.googleapis.com/tensorflow/tf-keras-datasets/mnist.npz\n",
      "11493376/11490434 [==============================] - 0s 0us/step\n"
     ]
    }
   ],
   "source": [
    "#Downloading dataset from library\n",
    "\n",
    "mnist = tf.keras.datasets.mnist\n",
    "\n",
    "(x_train,y_train ), (x_test, y_test) = mnist.load_data()"
   ]
  },
  {
   "cell_type": "code",
   "execution_count": 3,
   "metadata": {
    "execution": {
     "iopub.execute_input": "2021-02-28T13:37:46.137016Z",
     "iopub.status.busy": "2021-02-28T13:37:46.136311Z",
     "iopub.status.idle": "2021-02-28T13:37:46.139598Z",
     "shell.execute_reply": "2021-02-28T13:37:46.140222Z"
    },
    "papermill": {
     "duration": 0.025837,
     "end_time": "2021-02-28T13:37:46.140394",
     "exception": false,
     "start_time": "2021-02-28T13:37:46.114557",
     "status": "completed"
    },
    "tags": []
   },
   "outputs": [
    {
     "name": "stdout",
     "output_type": "stream",
     "text": [
      "Shape of the training dataset is (60000, 28, 28)\n",
      "Shape of the test dataset is (10000, 28, 28)\n"
     ]
    }
   ],
   "source": [
    "print('Shape of the training dataset is {}'.format(x_train.shape))\n",
    "\n",
    "print('Shape of the test dataset is {}'.format(x_test.shape))"
   ]
  },
  {
   "cell_type": "code",
   "execution_count": 4,
   "metadata": {
    "execution": {
     "iopub.execute_input": "2021-02-28T13:37:46.182514Z",
     "iopub.status.busy": "2021-02-28T13:37:46.181713Z",
     "iopub.status.idle": "2021-02-28T13:37:46.378083Z",
     "shell.execute_reply": "2021-02-28T13:37:46.378862Z"
    },
    "papermill": {
     "duration": 0.218516,
     "end_time": "2021-02-28T13:37:46.379044",
     "exception": false,
     "start_time": "2021-02-28T13:37:46.160528",
     "status": "completed"
    },
    "tags": []
   },
   "outputs": [
    {
     "name": "stderr",
     "output_type": "stream",
     "text": [
      "/opt/conda/lib/python3.7/site-packages/seaborn/_decorators.py:43: FutureWarning: Pass the following variable as a keyword arg: x. From version 0.12, the only valid positional argument will be `data`, and passing other arguments without an explicit keyword will result in an error or misinterpretation.\n",
      "  FutureWarning\n"
     ]
    },
    {
     "data": {
      "text/plain": [
       "<AxesSubplot:ylabel='count'>"
      ]
     },
     "execution_count": 4,
     "metadata": {},
     "output_type": "execute_result"
    },
    {
     "data": {
      "image/png": "[encoded data removed]",
      "text/plain": [
       "<Figure size 432x288 with 1 Axes>"
      ]
     },
     "metadata": {
      "needs_background": "light"
     },
     "output_type": "display_data"
    }
   ],
   "source": [
    "sns.countplot(y_train)"
   ]
  },
  {
   "cell_type": "markdown",
   "metadata": {
    "papermill": {
     "duration": 0.018285,
     "end_time": "2021-02-28T13:37:46.416808",
     "exception": false,
     "start_time": "2021-02-28T13:37:46.398523",
     "status": "completed"
    },
    "tags": []
   },
   "source": [
    "There are enough samples for each class to train, there is no need to downsample or upweight any category."
   ]
  },
  {
   "cell_type": "markdown",
   "metadata": {
    "papermill": {
     "duration": 0.018196,
     "end_time": "2021-02-28T13:37:46.453944",
     "exception": false,
     "start_time": "2021-02-28T13:37:46.435748",
     "status": "completed"
    },
    "tags": []
   },
   "source": [
    "# 2.1  Checking NaN Value"
   ]
  },
  {
   "cell_type": "code",
   "execution_count": 5,
   "metadata": {
    "execution": {
     "iopub.execute_input": "2021-02-28T13:37:46.497231Z",
     "iopub.status.busy": "2021-02-28T13:37:46.495977Z",
     "iopub.status.idle": "2021-02-28T13:37:46.515888Z",
     "shell.execute_reply": "2021-02-28T13:37:46.515439Z"
    },
    "papermill": {
     "duration": 0.043357,
     "end_time": "2021-02-28T13:37:46.516016",
     "exception": false,
     "start_time": "2021-02-28T13:37:46.472659",
     "status": "completed"
    },
    "tags": []
   },
   "outputs": [
    {
     "data": {
      "text/plain": [
       "False"
      ]
     },
     "execution_count": 5,
     "metadata": {},
     "output_type": "execute_result"
    }
   ],
   "source": [
    "np.isnan(x_train).any()"
   ]
  },
  {
   "cell_type": "code",
   "execution_count": 6,
   "metadata": {
    "execution": {
     "iopub.execute_input": "2021-02-28T13:37:46.559072Z",
     "iopub.status.busy": "2021-02-28T13:37:46.558030Z",
     "iopub.status.idle": "2021-02-28T13:37:46.565217Z",
     "shell.execute_reply": "2021-02-28T13:37:46.564791Z"
    },
    "papermill": {
     "duration": 0.030168,
     "end_time": "2021-02-28T13:37:46.565341",
     "exception": false,
     "start_time": "2021-02-28T13:37:46.535173",
     "status": "completed"
    },
    "tags": []
   },
   "outputs": [
    {
     "data": {
      "text/plain": [
       "False"
      ]
     },
     "execution_count": 6,
     "metadata": {},
     "output_type": "execute_result"
    }
   ],
   "source": [
    "np.isnan(x_test).any()"
   ]
  },
  {
   "cell_type": "markdown",
   "metadata": {
    "papermill": {
     "duration": 0.020093,
     "end_time": "2021-02-28T13:37:46.605172",
     "exception": false,
     "start_time": "2021-02-28T13:37:46.585079",
     "status": "completed"
    },
    "tags": []
   },
   "source": [
    "# 2.2 Normalizing and Reshaping "
   ]
  },
  {
   "cell_type": "markdown",
   "metadata": {
    "papermill": {
     "duration": 0.019323,
     "end_time": "2021-02-28T13:37:46.644267",
     "exception": false,
     "start_time": "2021-02-28T13:37:46.624944",
     "status": "completed"
    },
    "tags": []
   },
   "source": [
    "We will first reshape our image that is preferred as an input to our Convolutional network. First convolutional layer expect a single 60000x28x28x1 tensor instead of 60000 28x28x1 tensor shape. Last 1 is number of channel as MNIST is gray scaled images so we will keep 1 else in case of RGB it must be 3.\n",
    "\n",
    "Model will run better for normalized value so will make sure pixel value between 0-1 range so will divide all by 255.0"
   ]
  },
  {
   "cell_type": "code",
   "execution_count": 7,
   "metadata": {
    "execution": {
     "iopub.execute_input": "2021-02-28T13:37:46.691079Z",
     "iopub.status.busy": "2021-02-28T13:37:46.690116Z",
     "iopub.status.idle": "2021-02-28T13:37:46.832770Z",
     "shell.execute_reply": "2021-02-28T13:37:46.833377Z"
    },
    "papermill": {
     "duration": 0.169607,
     "end_time": "2021-02-28T13:37:46.833585",
     "exception": false,
     "start_time": "2021-02-28T13:37:46.663978",
     "status": "completed"
    },
    "tags": []
   },
   "outputs": [
    {
     "name": "stdout",
     "output_type": "stream",
     "text": [
      "x_train shape after reshapig and normalizing (60000, 28, 28, 1)\n",
      "x_test shape after reshapig and normalizing (10000, 28, 28, 1)\n"
     ]
    }
   ],
   "source": [
    "#Reshaping\n",
    "input_shape = (28,28,1)\n",
    "\n",
    "x_train = x_train.reshape(x_train.shape[0], x_train.shape[1], x_train.shape[2], 1)\n",
    "x_test = x_test.reshape(x_test.shape[0], x_test.shape[1], x_test.shape[2], 1)\n",
    "\n",
    "# Normalizing \n",
    "x_test = x_test/255.0\n",
    "x_train = x_train/255.0\n",
    "\n",
    "\n",
    "print('x_train shape after reshapig and normalizing {}'.format(x_train.shape))\n",
    "print('x_test shape after reshapig and normalizing {}'.format(x_test.shape))"
   ]
  },
  {
   "cell_type": "markdown",
   "metadata": {
    "papermill": {
     "duration": 0.020091,
     "end_time": "2021-02-28T13:37:46.875857",
     "exception": false,
     "start_time": "2021-02-28T13:37:46.855766",
     "status": "completed"
    },
    "tags": []
   },
   "source": [
    "# 2.3 Label Encoder\n",
    "We will convert each labels into one hot vector i.e for label value of 2 one hot vector will be [0,0,1,0,0,0,0,0,0]"
   ]
  },
  {
   "cell_type": "code",
   "execution_count": 8,
   "metadata": {
    "execution": {
     "iopub.execute_input": "2021-02-28T13:37:49.469733Z",
     "iopub.status.busy": "2021-02-28T13:37:49.469035Z",
     "iopub.status.idle": "2021-02-28T13:37:49.769197Z",
     "shell.execute_reply": "2021-02-28T13:37:49.769827Z"
    },
    "papermill": {
     "duration": 2.872846,
     "end_time": "2021-02-28T13:37:49.770033",
     "exception": false,
     "start_time": "2021-02-28T13:37:46.897187",
     "status": "completed"
    },
    "tags": []
   },
   "outputs": [
    {
     "name": "stdout",
     "output_type": "stream",
     "text": [
      "Shape of the train label after one hot encoding (60000, 10)\n",
      "Shape of the test label after one hot encoding (10000, 10)\n"
     ]
    }
   ],
   "source": [
    "y_train = tf.one_hot(y_train.astype(np.int32), depth=10)\n",
    "y_test = tf.one_hot(y_test.astype(np.int32), depth=10)\n",
    "\n",
    "\n",
    "print('Shape of the train label after one hot encoding {}'.format(y_train.shape))\n",
    "print('Shape of the test label after one hot encoding {}'.format(y_test.shape))"
   ]
  },
  {
   "cell_type": "markdown",
   "metadata": {
    "papermill": {
     "duration": 0.019976,
     "end_time": "2021-02-28T13:37:49.811514",
     "exception": false,
     "start_time": "2021-02-28T13:37:49.791538",
     "status": "completed"
    },
    "tags": []
   },
   "source": [
    "# 2.4 Digit Visulization"
   ]
  },
  {
   "cell_type": "code",
   "execution_count": 9,
   "metadata": {
    "execution": {
     "iopub.execute_input": "2021-02-28T13:37:49.870534Z",
     "iopub.status.busy": "2021-02-28T13:37:49.869575Z",
     "iopub.status.idle": "2021-02-28T13:37:49.995967Z",
     "shell.execute_reply": "2021-02-28T13:37:49.996397Z"
    },
    "papermill": {
     "duration": 0.165051,
     "end_time": "2021-02-28T13:37:49.996546",
     "exception": false,
     "start_time": "2021-02-28T13:37:49.831495",
     "status": "completed"
    },
    "tags": []
   },
   "outputs": [
    {
     "name": "stdout",
     "output_type": "stream",
     "text": [
      "tf.Tensor([0. 1. 0. 0. 0. 0. 0. 0. 0. 0.], shape=(10,), dtype=float32)\n"
     ]
    },
    {
     "data": {
      "image/png": "[encoded data removed]",
      "text/plain": [
       "<Figure size 432x288 with 1 Axes>"
      ]
     },
     "metadata": {
      "needs_background": "light"
     },
     "output_type": "display_data"
    }
   ],
   "source": [
    "plt.imshow(x_train[40][:,:,0])\n",
    "print(y_train[40])"
   ]
  },
  {
   "cell_type": "markdown",
   "metadata": {
    "papermill": {
     "duration": 0.021808,
     "end_time": "2021-02-28T13:37:50.040130",
     "exception": false,
     "start_time": "2021-02-28T13:37:50.018322",
     "status": "completed"
    },
    "tags": []
   },
   "source": [
    "# 3.CNN Model"
   ]
  },
  {
   "cell_type": "markdown",
   "metadata": {
    "papermill": {
     "duration": 0.021638,
     "end_time": "2021-02-28T13:37:50.083357",
     "exception": false,
     "start_time": "2021-02-28T13:37:50.061719",
     "status": "completed"
    },
    "tags": []
   },
   "source": [
    "3.1 Model Params"
   ]
  },
  {
   "cell_type": "code",
   "execution_count": 10,
   "metadata": {
    "execution": {
     "iopub.execute_input": "2021-02-28T13:37:50.132550Z",
     "iopub.status.busy": "2021-02-28T13:37:50.131654Z",
     "iopub.status.idle": "2021-02-28T13:37:50.134616Z",
     "shell.execute_reply": "2021-02-28T13:37:50.134057Z"
    },
    "papermill": {
     "duration": 0.028798,
     "end_time": "2021-02-28T13:37:50.134745",
     "exception": false,
     "start_time": "2021-02-28T13:37:50.105947",
     "status": "completed"
    },
    "tags": []
   },
   "outputs": [],
   "source": [
    "batch_size = 64\n",
    "num_classes = y_train.shape[1]\n",
    "\n",
    "epochs = 20"
   ]
  },
  {
   "cell_type": "code",
   "execution_count": 11,
   "metadata": {
    "execution": {
     "iopub.execute_input": "2021-02-28T13:37:50.185742Z",
     "iopub.status.busy": "2021-02-28T13:37:50.185191Z",
     "iopub.status.idle": "2021-02-28T13:37:50.302007Z",
     "shell.execute_reply": "2021-02-28T13:37:50.300955Z"
    },
    "papermill": {
     "duration": 0.146159,
     "end_time": "2021-02-28T13:37:50.302174",
     "exception": false,
     "start_time": "2021-02-28T13:37:50.156015",
     "status": "completed"
    },
    "tags": []
   },
   "outputs": [],
   "source": [
    "model = tf.keras.Sequential([\n",
    "    tf.keras.layers.Conv2D(32, (5,5), padding ='same', activation='relu', input_shape=input_shape),\n",
    "    tf.keras.layers.Conv2D(32, (5,5), padding ='same', activation='relu'),\n",
    "    tf.keras.layers.MaxPool2D(),\n",
    "    tf.keras.layers.Dropout(0.25),\n",
    "    tf.keras.layers.Conv2D(64, (3,3), padding='same', activation='relu'),\n",
    "    tf.keras.layers.Conv2D(64, (3,3), padding='same', activation='relu'),\n",
    "    tf.keras.layers.MaxPool2D(),\n",
    "    tf.keras.layers.Dropout(0.25),\n",
    "    tf.keras.layers.Flatten(),\n",
    "    tf.keras.layers.Dense(128, activation='relu'),\n",
    "    tf.keras.layers.Dropout(0.25),\n",
    "    tf.keras.layers.Dense(num_classes, activation='softmax')   \n",
    "    \n",
    "])\n",
    "\n",
    "model.compile(optimizer=tf.keras.optimizers.RMSprop(epsilon=1e-08), loss=\n",
    "             'categorical_crossentropy', metrics=['accuracy'])"
   ]
  },
  {
   "cell_type": "markdown",
   "metadata": {
    "papermill": {
     "duration": 0.022143,
     "end_time": "2021-02-28T13:37:50.346251",
     "exception": false,
     "start_time": "2021-02-28T13:37:50.324108",
     "status": "completed"
    },
    "tags": []
   },
   "source": [
    "3.2 Fitting the Trainign Data"
   ]
  },
  {
   "cell_type": "code",
   "execution_count": 12,
   "metadata": {
    "execution": {
     "iopub.execute_input": "2021-02-28T13:37:50.394539Z",
     "iopub.status.busy": "2021-02-28T13:37:50.393736Z",
     "iopub.status.idle": "2021-02-28T13:37:50.395873Z",
     "shell.execute_reply": "2021-02-28T13:37:50.396376Z"
    },
    "papermill": {
     "duration": 0.029114,
     "end_time": "2021-02-28T13:37:50.396510",
     "exception": false,
     "start_time": "2021-02-28T13:37:50.367396",
     "status": "completed"
    },
    "tags": []
   },
   "outputs": [],
   "source": [
    "# creating a callback for 99.55% accuracy\n",
    "\n",
    "class myCallback(tf.keras.callbacks.Callback):\n",
    "    def on_epoch_end(self, epoch, logs={}):\n",
    "        if(logs.get('acc') is not None and logs.get('acc')> 0.995):\n",
    "            print(\"\\n Reached 99.5% of accuracy!!\")\n",
    "            self.model.stop_training=True\n",
    "            \n",
    "callback= myCallback()"
   ]
  },
  {
   "cell_type": "code",
   "execution_count": 13,
   "metadata": {
    "execution": {
     "iopub.execute_input": "2021-02-28T13:37:50.443220Z",
     "iopub.status.busy": "2021-02-28T13:37:50.442572Z",
     "iopub.status.idle": "2021-02-28T13:39:25.805059Z",
     "shell.execute_reply": "2021-02-28T13:39:25.804550Z"
    },
    "papermill": {
     "duration": 95.387802,
     "end_time": "2021-02-28T13:39:25.805243",
     "exception": false,
     "start_time": "2021-02-28T13:37:50.417441",
     "status": "completed"
    },
    "tags": []
   },
   "outputs": [
    {
     "name": "stdout",
     "output_type": "stream",
     "text": [
      "Epoch 1/20\n",
      "844/844 [==============================] - 9s 6ms/step - loss: 0.4089 - accuracy: 0.8645 - val_loss: 0.0441 - val_accuracy: 0.9883\n",
      "Epoch 2/20\n",
      "844/844 [==============================] - 4s 5ms/step - loss: 0.0633 - accuracy: 0.9811 - val_loss: 0.0305 - val_accuracy: 0.9908\n",
      "Epoch 3/20\n",
      "844/844 [==============================] - 5s 5ms/step - loss: 0.0467 - accuracy: 0.9864 - val_loss: 0.0246 - val_accuracy: 0.9930\n",
      "Epoch 4/20\n",
      "844/844 [==============================] - 5s 6ms/step - loss: 0.0371 - accuracy: 0.9886 - val_loss: 0.0273 - val_accuracy: 0.9930\n",
      "Epoch 5/20\n",
      "844/844 [==============================] - 5s 5ms/step - loss: 0.0318 - accuracy: 0.9895 - val_loss: 0.0266 - val_accuracy: 0.9940\n",
      "Epoch 6/20\n",
      "844/844 [==============================] - 4s 5ms/step - loss: 0.0310 - accuracy: 0.9909 - val_loss: 0.0269 - val_accuracy: 0.9938\n",
      "Epoch 7/20\n",
      "844/844 [==============================] - 4s 5ms/step - loss: 0.0310 - accuracy: 0.9916 - val_loss: 0.0369 - val_accuracy: 0.9925\n",
      "Epoch 8/20\n",
      "844/844 [==============================] - 5s 5ms/step - loss: 0.0299 - accuracy: 0.9910 - val_loss: 0.0353 - val_accuracy: 0.9922\n",
      "Epoch 9/20\n",
      "844/844 [==============================] - 4s 5ms/step - loss: 0.0261 - accuracy: 0.9931 - val_loss: 0.0300 - val_accuracy: 0.9950\n",
      "Epoch 10/20\n",
      "844/844 [==============================] - 5s 5ms/step - loss: 0.0287 - accuracy: 0.9921 - val_loss: 0.0394 - val_accuracy: 0.9918\n",
      "Epoch 11/20\n",
      "844/844 [==============================] - 5s 6ms/step - loss: 0.0275 - accuracy: 0.9927 - val_loss: 0.0297 - val_accuracy: 0.9935\n",
      "Epoch 12/20\n",
      "844/844 [==============================] - 5s 5ms/step - loss: 0.0282 - accuracy: 0.9922 - val_loss: 0.0363 - val_accuracy: 0.9910\n",
      "Epoch 13/20\n",
      "844/844 [==============================] - 5s 5ms/step - loss: 0.0326 - accuracy: 0.9912 - val_loss: 0.0264 - val_accuracy: 0.9938\n",
      "Epoch 14/20\n",
      "844/844 [==============================] - 4s 5ms/step - loss: 0.0295 - accuracy: 0.9927 - val_loss: 0.0289 - val_accuracy: 0.9925\n",
      "Epoch 15/20\n",
      "844/844 [==============================] - 5s 5ms/step - loss: 0.0322 - accuracy: 0.9916 - val_loss: 0.0327 - val_accuracy: 0.9918\n",
      "Epoch 16/20\n",
      "844/844 [==============================] - 4s 5ms/step - loss: 0.0320 - accuracy: 0.9915 - val_loss: 0.0331 - val_accuracy: 0.9927\n",
      "Epoch 17/20\n",
      "844/844 [==============================] - 5s 5ms/step - loss: 0.0334 - accuracy: 0.9911 - val_loss: 0.0377 - val_accuracy: 0.9922\n",
      "Epoch 18/20\n",
      "844/844 [==============================] - 5s 6ms/step - loss: 0.0330 - accuracy: 0.9923 - val_loss: 0.0418 - val_accuracy: 0.9923\n",
      "Epoch 19/20\n",
      "844/844 [==============================] - 4s 5ms/step - loss: 0.0395 - accuracy: 0.9908 - val_loss: 0.0383 - val_accuracy: 0.9942\n",
      "Epoch 20/20\n",
      "844/844 [==============================] - 5s 5ms/step - loss: 0.0394 - accuracy: 0.9910 - val_loss: 0.0400 - val_accuracy: 0.9920\n"
     ]
    }
   ],
   "source": [
    "history = model.fit(x_train, y_train,\n",
    "                  batch_size = batch_size,\n",
    "                  epochs=epochs,\n",
    "                  validation_split=0.1,\n",
    "                  callbacks = [callback])"
   ]
  },
  {
   "cell_type": "markdown",
   "metadata": {
    "papermill": {
     "duration": 0.439314,
     "end_time": "2021-02-28T13:39:26.685281",
     "exception": false,
     "start_time": "2021-02-28T13:39:26.245967",
     "status": "completed"
    },
    "tags": []
   },
   "source": [
    "# 4. Model Evaluation "
   ]
  },
  {
   "cell_type": "markdown",
   "metadata": {
    "papermill": {
     "duration": 0.441969,
     "end_time": "2021-02-28T13:39:27.570097",
     "exception": false,
     "start_time": "2021-02-28T13:39:27.128128",
     "status": "completed"
    },
    "tags": []
   },
   "source": [
    "# 4.1 Loss and Accuracy curve"
   ]
  },
  {
   "cell_type": "code",
   "execution_count": 14,
   "metadata": {
    "execution": {
     "iopub.execute_input": "2021-02-28T13:39:28.484150Z",
     "iopub.status.busy": "2021-02-28T13:39:28.481585Z",
     "iopub.status.idle": "2021-02-28T13:39:28.717018Z",
     "shell.execute_reply": "2021-02-28T13:39:28.716574Z"
    },
    "papermill": {
     "duration": 0.694313,
     "end_time": "2021-02-28T13:39:28.717177",
     "exception": false,
     "start_time": "2021-02-28T13:39:28.022864",
     "status": "completed"
    },
    "tags": []
   },
   "outputs": [
    {
     "data": {
      "image/png": "[encoded data removed]",
      "text/plain": [
       "<Figure size 432x288 with 2 Axes>"
      ]
     },
     "metadata": {
      "needs_background": "light"
     },
     "output_type": "display_data"
    }
   ],
   "source": [
    "# Loss Curve\n",
    "\n",
    "fig, ax = plt.subplots(2,1)\n",
    "ax[0].plot(history.history['loss'], color = 'b', label = 'Training Loss')\n",
    "ax[0].plot(history.history['val_loss'], color='r', label='Validation Loss', axes=ax[0])\n",
    "legend = ax[0].legend(loc='best', shadow=True)\n",
    "\n",
    "# Accuracy Curve\n",
    "ax[1].plot(history.history['accuracy'], color='b', label = 'Training Accuracy')\n",
    "ax[1].plot(history.history['val_accuracy'], color='r', label='Validation Accuracy')\n",
    "legend = ax[1].legend(loc='best', shadow=True)\n"
   ]
  },
  {
   "cell_type": "markdown",
   "metadata": {
    "papermill": {
     "duration": 0.435332,
     "end_time": "2021-02-28T13:39:29.592296",
     "exception": false,
     "start_time": "2021-02-28T13:39:29.156964",
     "status": "completed"
    },
    "tags": []
   },
   "source": [
    "#  4.2 Prediction "
   ]
  },
  {
   "cell_type": "code",
   "execution_count": 15,
   "metadata": {
    "execution": {
     "iopub.execute_input": "2021-02-28T13:39:30.511988Z",
     "iopub.status.busy": "2021-02-28T13:39:30.510913Z",
     "iopub.status.idle": "2021-02-28T13:39:31.392958Z",
     "shell.execute_reply": "2021-02-28T13:39:31.392354Z"
    },
    "papermill": {
     "duration": 1.323722,
     "end_time": "2021-02-28T13:39:31.393155",
     "exception": false,
     "start_time": "2021-02-28T13:39:30.069433",
     "status": "completed"
    },
    "tags": []
   },
   "outputs": [
    {
     "name": "stdout",
     "output_type": "stream",
     "text": [
      "313/313 [==============================] - 1s 3ms/step - loss: 0.0320 - accuracy: 0.9923\n"
     ]
    }
   ],
   "source": [
    "test_loss, test_acc = model.evaluate(x_test, y_test)"
   ]
  },
  {
   "cell_type": "markdown",
   "metadata": {
    "papermill": {
     "duration": 0.455875,
     "end_time": "2021-02-28T13:39:32.303763",
     "exception": false,
     "start_time": "2021-02-28T13:39:31.847888",
     "status": "completed"
    },
    "tags": []
   },
   "source": [
    "# Confusion Matrix:"
   ]
  },
  {
   "cell_type": "code",
   "execution_count": 16,
   "metadata": {
    "execution": {
     "iopub.execute_input": "2021-02-28T13:39:33.226474Z",
     "iopub.status.busy": "2021-02-28T13:39:33.225547Z",
     "iopub.status.idle": "2021-02-28T13:39:33.915563Z",
     "shell.execute_reply": "2021-02-28T13:39:33.916353Z"
    },
    "papermill": {
     "duration": 1.151466,
     "end_time": "2021-02-28T13:39:33.916635",
     "exception": false,
     "start_time": "2021-02-28T13:39:32.765169",
     "status": "completed"
    },
    "tags": []
   },
   "outputs": [],
   "source": [
    "Y_pred = model.predict(x_test)\n",
    "\n",
    "\n",
    "Y_pred_classes = np.argmax(Y_pred, axis=1)\n",
    "\n",
    "Y_true = np.argmax(y_test, axis=1)\n",
    "\n",
    "confusion_mat = tf.math.confusion_matrix(Y_true, Y_pred_classes)"
   ]
  },
  {
   "cell_type": "code",
   "execution_count": 17,
   "metadata": {
    "execution": {
     "iopub.execute_input": "2021-02-28T13:39:34.870488Z",
     "iopub.status.busy": "2021-02-28T13:39:34.869309Z",
     "iopub.status.idle": "2021-02-28T13:39:35.593328Z",
     "shell.execute_reply": "2021-02-28T13:39:35.593769Z"
    },
    "papermill": {
     "duration": 1.207278,
     "end_time": "2021-02-28T13:39:35.593925",
     "exception": false,
     "start_time": "2021-02-28T13:39:34.386647",
     "status": "completed"
    },
    "tags": []
   },
   "outputs": [
    {
     "data": {
      "text/plain": [
       "<AxesSubplot:>"
      ]
     },
     "execution_count": 17,
     "metadata": {},
     "output_type": "execute_result"
    },
    {
     "data": {
      "image/png": "[encoded data removed]",
      "text/plain": [
       "<Figure size 720x576 with 2 Axes>"
      ]
     },
     "metadata": {
      "needs_background": "light"
     },
     "output_type": "display_data"
    }
   ],
   "source": [
    "plt.figure(figsize=(10,8))\n",
    "sns.heatmap(confusion_mat, annot=True, fmt='g')"
   ]
  },
  {
   "cell_type": "markdown",
   "metadata": {
    "papermill": {
     "duration": 0.451317,
     "end_time": "2021-02-28T13:39:36.507168",
     "exception": false,
     "start_time": "2021-02-28T13:39:36.055851",
     "status": "completed"
    },
    "tags": []
   },
   "source": [
    "X axis is predicted label and Y axis is true label. We can see that model has highest confusion beween 0 and 6. Five digits were there whom model predicted as 0."
   ]
  },
  {
   "cell_type": "markdown",
   "metadata": {
    "papermill": {
     "duration": 0.443946,
     "end_time": "2021-02-28T13:39:37.410641",
     "exception": false,
     "start_time": "2021-02-28T13:39:36.966695",
     "status": "completed"
    },
    "tags": []
   },
   "source": [
    "With sequential model and without any augementation my model has an accuray above 99% in the test dataset."
   ]
  },
  {
   "cell_type": "markdown",
   "metadata": {
    "papermill": {
     "duration": 0.441664,
     "end_time": "2021-02-28T13:39:38.294783",
     "exception": false,
     "start_time": "2021-02-28T13:39:37.853119",
     "status": "completed"
    },
    "tags": []
   },
   "source": [
    "**If you found this notebook helpful please like or upvote!!! Happy learning.**"
   ]
  },
  {
   "cell_type": "code",
   "execution_count": null,
   "metadata": {
    "papermill": {
     "duration": 0.450375,
     "end_time": "2021-02-28T13:39:39.186662",
     "exception": false,
     "start_time": "2021-02-28T13:39:38.736287",
     "status": "completed"
    },
    "tags": []
   },
   "outputs": [],
   "source": []
  }
 ],
 "metadata": {
  "kernelspec": {
   "display_name": "Python 3",
   "language": "python",
   "name": "python3"
  },
  "language_info": {
   "codemirror_mode": {
    "name": "ipython",
    "version": 3
   },
   "file_extension": ".py",
   "mimetype": "text/x-python",
   "name": "python",
   "nbconvert_exporter": "python",
   "pygments_lexer": "ipython3",
   "version": "3.7.9"
  },
  "papermill": {
   "default_parameters": {},
   "duration": 127.912401,
   "end_time": "2021-02-28T13:39:42.062847",
   "environment_variables": {},
   "exception": null,
   "input_path": "__notebook__.ipynb",
   "output_path": "__notebook__.ipynb",
   "parameters": {},
   "start_time": "2021-02-28T13:37:34.150446",
   "version": "2.2.2"
  }
 },
 "nbformat": 4,
 "nbformat_minor": 4
}
